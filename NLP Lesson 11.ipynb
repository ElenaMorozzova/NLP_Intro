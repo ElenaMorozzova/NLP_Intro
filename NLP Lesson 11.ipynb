{
  "nbformat": 4,
  "nbformat_minor": 0,
  "metadata": {
    "colab": {
      "name": "NLP Lesson11.ipynb",
      "provenance": [],
      "collapsed_sections": [],
      "authorship_tag": "ABX9TyP5i/Pplx5LhJfpzMqdweak"
    },
    "kernelspec": {
      "name": "python3",
      "display_name": "Python 3"
    },
    "language_info": {
      "name": "python"
    },
    "accelerator": "GPU"
  },
  "cells": [
    {
      "cell_type": "markdown",
      "metadata": {
        "id": "_EvTd2VR4mMf"
      },
      "source": [
        "**Neural machine translation with attention**"
      ]
    },
    {
      "cell_type": "code",
      "metadata": {
        "id": "kvq0fPIQz2xS"
      },
      "source": [
        "import tensorflow as tf\n",
        "\n",
        "import matplotlib.pyplot as plt\n",
        "import matplotlib.ticker as ticker\n",
        "from sklearn.model_selection import train_test_split\n",
        "\n",
        "import unicodedata\n",
        "import re\n",
        "import numpy as np\n",
        "import os\n",
        "import io\n",
        "import time"
      ],
      "execution_count": 1,
      "outputs": []
    },
    {
      "cell_type": "markdown",
      "metadata": {
        "id": "Y8WUKJvU4uPK"
      },
      "source": [
        "**Download and prepare the dataset**\n",
        "\n",
        "We'll use a language dataset provided by http://www.manythings.org/anki/"
      ]
    },
    {
      "cell_type": "code",
      "metadata": {
        "colab": {
          "base_uri": "https://localhost:8080/"
        },
        "id": "S7oOvlQz4qaz",
        "outputId": "801e3153-4db6-43bb-f421-0857100d8e96"
      },
      "source": [
        "!wget http://www.manythings.org/anki/ita-eng.zip"
      ],
      "execution_count": 2,
      "outputs": [
        {
          "output_type": "stream",
          "name": "stdout",
          "text": [
            "--2021-11-21 15:29:20--  http://www.manythings.org/anki/ita-eng.zip\n",
            "Resolving www.manythings.org (www.manythings.org)... 104.21.92.44, 172.67.186.54, 2606:4700:3030::6815:5c2c, ...\n",
            "Connecting to www.manythings.org (www.manythings.org)|104.21.92.44|:80... connected.\n",
            "HTTP request sent, awaiting response... 200 OK\n",
            "Length: 7730753 (7.4M) [application/zip]\n",
            "Saving to: ‘ita-eng.zip’\n",
            "\n",
            "ita-eng.zip         100%[===================>]   7.37M  8.94MB/s    in 0.8s    \n",
            "\n",
            "2021-11-21 15:29:22 (8.94 MB/s) - ‘ita-eng.zip’ saved [7730753/7730753]\n",
            "\n"
          ]
        }
      ]
    },
    {
      "cell_type": "code",
      "metadata": {
        "colab": {
          "base_uri": "https://localhost:8080/"
        },
        "id": "qivMruHq4rej",
        "outputId": "4d2a9018-52fd-4794-a0a4-ea7478f2e6c4"
      },
      "source": [
        "!mkdir ita-eng\n",
        "!unzip ita-eng.zip -d ita-eng/"
      ],
      "execution_count": 3,
      "outputs": [
        {
          "output_type": "stream",
          "name": "stdout",
          "text": [
            "Archive:  ita-eng.zip\n",
            "  inflating: ita-eng/ita.txt         \n",
            "  inflating: ita-eng/_about.txt      \n"
          ]
        }
      ]
    },
    {
      "cell_type": "code",
      "metadata": {
        "colab": {
          "base_uri": "https://localhost:8080/"
        },
        "id": "Fr0tmT1B4riK",
        "outputId": "9258c0c0-f062-4e2d-cc13-9b0c03cbd1f4"
      },
      "source": [
        "!ls /content/ita-eng/ -lah"
      ],
      "execution_count": 4,
      "outputs": [
        {
          "output_type": "stream",
          "name": "stdout",
          "text": [
            "total 48M\n",
            "drwxr-xr-x 2 root root 4.0K Nov 21 15:29 .\n",
            "drwxr-xr-x 1 root root 4.0K Nov 21 15:29 ..\n",
            "-rw-r--r-- 1 root root 1.5K Jul 14 10:16 _about.txt\n",
            "-rw-r--r-- 1 root root  48M Jul 14 10:16 ita.txt\n"
          ]
        }
      ]
    },
    {
      "cell_type": "code",
      "metadata": {
        "id": "qborf6Op4rl7"
      },
      "source": [
        "# Download the file\n",
        "path_to_file = \"/content/ita-eng/ita.txt\""
      ],
      "execution_count": 5,
      "outputs": []
    },
    {
      "cell_type": "code",
      "metadata": {
        "id": "RPWBR43z4rpU"
      },
      "source": [
        "def preprocess_sentence(w):\n",
        "  w = w.lower().strip()\n",
        "\n",
        "  # creating a space between a word and the punctuation following it\n",
        "  # eg: \"he is a boy.\" => \"he is a boy .\"\n",
        "  # Reference:- https://stackoverflow.com/questions/3645931/python-padding-punctuation-with-white-spaces-keeping-punctuation\n",
        "  w = re.sub(r\"([?.!,])\", r\" \\1 \", w)\n",
        "  w = re.sub(r'[\" \"]+', \" \", w)\n",
        "\n",
        "  # replacing everything with space except (a-z, A-Z, \".\", \"?\", \"!\", \",\")\n",
        "  w = re.sub(r\"[^a-zA-Zа-яА-Я?.!,']+\", \" \", w)\n",
        "\n",
        "  w = w.strip()\n",
        "\n",
        "  # adding a start and an end token to the sentence\n",
        "  # so that the model know when to start and stop predicting.\n",
        "  w = '<start> ' + w + ' <end>'\n",
        "  return w"
      ],
      "execution_count": 6,
      "outputs": []
    },
    {
      "cell_type": "code",
      "metadata": {
        "colab": {
          "base_uri": "https://localhost:8080/",
          "height": 35
        },
        "id": "c31n1HI94rsm",
        "outputId": "63526d1c-e5bc-4688-bcd7-19868dccaa76"
      },
      "source": [
        "preprocess_sentence(\"I can't go.\")"
      ],
      "execution_count": 7,
      "outputs": [
        {
          "output_type": "execute_result",
          "data": {
            "application/vnd.google.colaboratory.intrinsic+json": {
              "type": "string"
            },
            "text/plain": [
              "\"<start> i can't go . <end>\""
            ]
          },
          "metadata": {},
          "execution_count": 7
        }
      ]
    },
    {
      "cell_type": "code",
      "metadata": {
        "id": "uKzt9sTB5rXU"
      },
      "source": [
        "# 1. Remove the accents\n",
        "# 2. Clean the sentences\n",
        "# 3. Return word pairs in the format: [ENG, RUS]\n",
        "def create_dataset(path, num_examples):\n",
        "  lines = io.open(path, encoding='UTF-8').read().strip().split('\\n')\n",
        "\n",
        "  word_pairs = [[preprocess_sentence(w) for w in l.split('\\t')[:2]]  for l in lines[:num_examples]]\n",
        "\n",
        "  return zip(*word_pairs)"
      ],
      "execution_count": 8,
      "outputs": []
    },
    {
      "cell_type": "code",
      "metadata": {
        "colab": {
          "base_uri": "https://localhost:8080/"
        },
        "id": "HBgNGsEj5uwf",
        "outputId": "fe069451-a30e-47a9-c13d-e424633f086a"
      },
      "source": [
        "en, ita = create_dataset(path_to_file, None)\n",
        "print(en[-1])\n",
        "print(ita[-1])"
      ],
      "execution_count": 9,
      "outputs": [
        {
          "output_type": "stream",
          "name": "stdout",
          "text": [
            "<start> doubtless there exists in this world precisely the right woman for any given man to marry and vice versa but when you consider that a human being has the opportunity of being acquainted with only a few hundred people , and out of the few hundred that there are but a dozen or less whom he knows intimately , and out of the dozen , one or two friends at most , it will easily be seen , when we remember the number of millions who inhabit this world , that probably , since the earth was created , the right man has never yet met the right woman . <end>\n",
            "<start> senza dubbio esiste in questo mondo proprio la donna giusta per ogni uomo da sposare e viceversa ma se si considera che un essere umano ha l'opportunit di conoscere solo poche centinaia di persone , e fra le poche centinaia che ce ne sono solo una dozzina o meno che conosce intimamente e fra la dozzina , uno o due amici al massimo , si vedr facilmente , quando ricorderemo il numero di milioni che abitano questo mondo , che probabilmente , da quando stata creata la terra , l'uomo giusto non ha mai incontrato la donna giusta . <end>\n"
          ]
        }
      ]
    },
    {
      "cell_type": "code",
      "metadata": {
        "id": "hgMszhrp54Dg"
      },
      "source": [
        "def tokenize(lang):\n",
        "  lang_tokenizer = tf.keras.preprocessing.text.Tokenizer(\n",
        "      filters='')\n",
        "  lang_tokenizer.fit_on_texts(lang)\n",
        "\n",
        "  tensor = lang_tokenizer.texts_to_sequences(lang)\n",
        "\n",
        "  tensor = tf.keras.preprocessing.sequence.pad_sequences(tensor,\n",
        "                                                         padding='post')\n",
        "\n",
        "  return tensor, lang_tokenizer"
      ],
      "execution_count": 10,
      "outputs": []
    },
    {
      "cell_type": "code",
      "metadata": {
        "id": "1FUegNxo6ACw"
      },
      "source": [
        "def load_dataset(path, num_examples=None):\n",
        "  # creating cleaned input, output pairs\n",
        "  targ_lang, inp_lang = create_dataset(path, num_examples)\n",
        "\n",
        "  input_tensor, inp_lang_tokenizer = tokenize(inp_lang)\n",
        "  target_tensor, targ_lang_tokenizer = tokenize(targ_lang)\n",
        "\n",
        "  return input_tensor, target_tensor, inp_lang_tokenizer, targ_lang_tokenizer"
      ],
      "execution_count": 11,
      "outputs": []
    },
    {
      "cell_type": "markdown",
      "metadata": {
        "id": "UflFGyK06E5Y"
      },
      "source": [
        "**Limit the size of the dataset to experiment faster (optional)**"
      ]
    },
    {
      "cell_type": "code",
      "metadata": {
        "colab": {
          "base_uri": "https://localhost:8080/"
        },
        "id": "cHAwTgQF6C38",
        "outputId": "ce3120e5-2047-4f28-8bfd-60c2e528f344"
      },
      "source": [
        "len(en), len(ita)"
      ],
      "execution_count": 12,
      "outputs": [
        {
          "output_type": "execute_result",
          "data": {
            "text/plain": [
              "(352040, 352040)"
            ]
          },
          "metadata": {},
          "execution_count": 12
        }
      ]
    },
    {
      "cell_type": "code",
      "metadata": {
        "id": "xPzajBMy6G5F"
      },
      "source": [
        "# Try experimenting with the size of that dataset\n",
        "num_examples = 100000\n",
        "input_tensor, target_tensor, inp_lang, targ_lang = load_dataset(path_to_file, num_examples)\n",
        "\n",
        "# Calculate max_length of the target tensors\n",
        "max_length_targ, max_length_inp = target_tensor.shape[1], input_tensor.shape[1]"
      ],
      "execution_count": 13,
      "outputs": []
    },
    {
      "cell_type": "code",
      "metadata": {
        "colab": {
          "base_uri": "https://localhost:8080/"
        },
        "id": "Rb_uWm7v6G74",
        "outputId": "f50150e7-b6cc-4889-d7e9-d3b2a926a4de"
      },
      "source": [
        "# Creating training and validation sets using an 80-20 split\n",
        "input_tensor_train, input_tensor_val, target_tensor_train, target_tensor_val = train_test_split(input_tensor, target_tensor, test_size=0.2)\n",
        "\n",
        "# Show length\n",
        "print(len(input_tensor_train), len(target_tensor_train), len(input_tensor_val), len(target_tensor_val))"
      ],
      "execution_count": 14,
      "outputs": [
        {
          "output_type": "stream",
          "name": "stdout",
          "text": [
            "80000 80000 20000 20000\n"
          ]
        }
      ]
    },
    {
      "cell_type": "code",
      "metadata": {
        "id": "MmYetsIQ6HBK"
      },
      "source": [
        "def convert(lang, tensor):\n",
        "  for t in tensor:\n",
        "    if t!=0:\n",
        "      print (\"%d ----> %s\" % (t, lang.index_word[t]))"
      ],
      "execution_count": 15,
      "outputs": []
    },
    {
      "cell_type": "code",
      "metadata": {
        "colab": {
          "base_uri": "https://localhost:8080/"
        },
        "id": "mV6xfyX06HD2",
        "outputId": "3a2ff17f-efdb-4481-c071-694477972fa1"
      },
      "source": [
        "print (\"Input Language; index to word mapping\")\n",
        "convert(inp_lang, input_tensor_train[2])\n",
        "print ()\n",
        "print (\"Target Language; index to word mapping\")\n",
        "convert(targ_lang, target_tensor_train[2])"
      ],
      "execution_count": 16,
      "outputs": [
        {
          "output_type": "stream",
          "name": "stdout",
          "text": [
            "Input Language; index to word mapping\n",
            "1 ----> <start>\n",
            "16 ----> ho\n",
            "708 ----> guardato\n",
            "4 ----> tom\n",
            "3 ----> .\n",
            "2 ----> <end>\n",
            "\n",
            "Target Language; index to word mapping\n",
            "1 ----> <start>\n",
            "4 ----> i\n",
            "248 ----> looked\n",
            "57 ----> at\n",
            "5 ----> tom\n",
            "3 ----> .\n",
            "2 ----> <end>\n"
          ]
        }
      ]
    },
    {
      "cell_type": "markdown",
      "metadata": {
        "id": "NcichwijCpMS"
      },
      "source": [
        "**Create a tf.data dataset**"
      ]
    },
    {
      "cell_type": "code",
      "metadata": {
        "id": "apNUr1ZQ6HGx"
      },
      "source": [
        "BUFFER_SIZE = len(input_tensor_train)\n",
        "BATCH_SIZE = 64\n",
        "steps_per_epoch = len(input_tensor_train)//BATCH_SIZE\n",
        "embedding_dim = 256\n",
        "units = 1024\n",
        "vocab_inp_size = len(inp_lang.word_index)+1\n",
        "vocab_tar_size = len(targ_lang.word_index)+1\n",
        "\n",
        "dataset = tf.data.Dataset.from_tensor_slices((input_tensor_train, target_tensor_train)).shuffle(BUFFER_SIZE)\n",
        "dataset = dataset.batch(BATCH_SIZE, drop_remainder=True)"
      ],
      "execution_count": 17,
      "outputs": []
    },
    {
      "cell_type": "code",
      "metadata": {
        "colab": {
          "base_uri": "https://localhost:8080/"
        },
        "id": "3kYXHtbNCs4E",
        "outputId": "12d777e3-1058-4bef-8756-90904ccecef1"
      },
      "source": [
        "example_input_batch, example_target_batch = next(iter(dataset))\n",
        "example_input_batch.shape, example_target_batch.shape"
      ],
      "execution_count": 18,
      "outputs": [
        {
          "output_type": "execute_result",
          "data": {
            "text/plain": [
              "(TensorShape([64, 20]), TensorShape([64, 11]))"
            ]
          },
          "metadata": {},
          "execution_count": 18
        }
      ]
    },
    {
      "cell_type": "code",
      "metadata": {
        "id": "s3Xc5HLPCtOM"
      },
      "source": [
        "class Encoder(tf.keras.Model):\n",
        "  def __init__(self, vocab_size, embedding_dim, enc_units, batch_sz):\n",
        "    super(Encoder, self).__init__()\n",
        "    self.batch_sz = batch_sz\n",
        "    self.enc_units = enc_units\n",
        "    self.embedding = tf.keras.layers.Embedding(vocab_size, embedding_dim)\n",
        "    self.gru = tf.keras.layers.GRU(self.enc_units,\n",
        "                                   return_sequences=True,\n",
        "                                   return_state=True,\n",
        "                                   recurrent_initializer='glorot_uniform')\n",
        "\n",
        "  def call(self, x, hidden):\n",
        "    x = self.embedding(x)\n",
        "    output, state = self.gru(x, initial_state = hidden)\n",
        "    return output, state\n",
        "\n",
        "  def initialize_hidden_state(self):\n",
        "    return tf.zeros((self.batch_sz, self.enc_units))"
      ],
      "execution_count": 19,
      "outputs": []
    },
    {
      "cell_type": "code",
      "metadata": {
        "colab": {
          "base_uri": "https://localhost:8080/"
        },
        "id": "1r6RqqULCtRB",
        "outputId": "e964b12d-93fa-4634-f6a8-8401d2df92f4"
      },
      "source": [
        "encoder = Encoder(vocab_inp_size, embedding_dim, units, BATCH_SIZE)\n",
        "\n",
        "# sample input\n",
        "sample_hidden = encoder.initialize_hidden_state()\n",
        "sample_output, sample_hidden = encoder(example_input_batch, sample_hidden)\n",
        "print ('Encoder output shape: (batch size, sequence length, units) {}'.format(sample_output.shape))\n",
        "print ('Encoder Hidden state shape: (batch size, units) {}'.format(sample_hidden.shape))"
      ],
      "execution_count": 20,
      "outputs": [
        {
          "output_type": "stream",
          "name": "stdout",
          "text": [
            "Encoder output shape: (batch size, sequence length, units) (64, 20, 1024)\n",
            "Encoder Hidden state shape: (batch size, units) (64, 1024)\n"
          ]
        }
      ]
    },
    {
      "cell_type": "code",
      "metadata": {
        "id": "ylNexUW9CtTs"
      },
      "source": [
        "class BahdanauAttention(tf.keras.layers.Layer):\n",
        "  def __init__(self, units):\n",
        "    super(BahdanauAttention, self).__init__()\n",
        "    self.W1 = tf.keras.layers.Dense(units)\n",
        "    self.W2 = tf.keras.layers.Dense(units)\n",
        "    self.V = tf.keras.layers.Dense(1)\n",
        "\n",
        "  def call(self, query, values):\n",
        "    # query hidden state shape == (batch_size, hidden size)\n",
        "    # query_with_time_axis shape == (batch_size, 1, hidden size)\n",
        "    # values shape == (batch_size, max_len, hidden size)\n",
        "    # we are doing this to broadcast addition along the time axis to calculate the score\n",
        "    query_with_time_axis = tf.expand_dims(query, 1)\n",
        "\n",
        "    # score shape == (batch_size, max_length, 1)\n",
        "    # we get 1 at the last axis because we are applying score to self.V\n",
        "    # the shape of the tensor before applying self.V is (batch_size, max_length, units)\n",
        "    score = self.V(tf.nn.tanh(\n",
        "        self.W1(query_with_time_axis) + self.W2(values)))\n",
        "\n",
        "    # attention_weights shape == (batch_size, max_length, 1)\n",
        "    attention_weights = tf.nn.softmax(score, axis=1)\n",
        "\n",
        "    # context_vector shape after sum == (batch_size, hidden_size)\n",
        "    context_vector = attention_weights * values\n",
        "    context_vector = tf.reduce_sum(context_vector, axis=1)\n",
        "\n",
        "    return context_vector, attention_weights"
      ],
      "execution_count": 21,
      "outputs": []
    },
    {
      "cell_type": "code",
      "metadata": {
        "colab": {
          "base_uri": "https://localhost:8080/"
        },
        "id": "bCwowt8nC3aQ",
        "outputId": "0212e429-9635-4303-beb7-40975f763ac5"
      },
      "source": [
        "attention_layer = BahdanauAttention(10)\n",
        "attention_result, attention_weights = attention_layer(sample_hidden, sample_output)\n",
        "\n",
        "print(\"Attention result shape: (batch size, units) {}\".format(attention_result.shape))\n",
        "print(\"Attention weights shape: (batch_size, sequence_length, 1) {}\".format(attention_weights.shape))"
      ],
      "execution_count": 22,
      "outputs": [
        {
          "output_type": "stream",
          "name": "stdout",
          "text": [
            "Attention result shape: (batch size, units) (64, 1024)\n",
            "Attention weights shape: (batch_size, sequence_length, 1) (64, 20, 1)\n"
          ]
        }
      ]
    },
    {
      "cell_type": "code",
      "metadata": {
        "id": "J64OQiwgC3dK"
      },
      "source": [
        "class Decoder(tf.keras.Model):\n",
        "  def __init__(self, vocab_size, embedding_dim, dec_units, batch_sz):\n",
        "    super(Decoder, self).__init__()\n",
        "    self.batch_sz = batch_sz\n",
        "    self.dec_units = dec_units\n",
        "    self.embedding = tf.keras.layers.Embedding(vocab_size, embedding_dim)\n",
        "    self.gru = tf.keras.layers.GRU(self.dec_units,\n",
        "                                   return_sequences=True,\n",
        "                                   return_state=True,\n",
        "                                   recurrent_initializer='glorot_uniform')\n",
        "    self.fc = tf.keras.layers.Dense(vocab_size)\n",
        "\n",
        "    # used for attention\n",
        "    self.attention = BahdanauAttention(self.dec_units)\n",
        "\n",
        "  def call(self, x, hidden, enc_output):\n",
        "    # enc_output shape == (batch_size, max_length, hidden_size)\n",
        "    context_vector, attention_weights = self.attention(hidden, enc_output)\n",
        "\n",
        "    # x shape after passing through embedding == (batch_size, 1, embedding_dim)\n",
        "    x = self.embedding(x)\n",
        "\n",
        "    # x shape after concatenation == (batch_size, 1, embedding_dim + hidden_size)\n",
        "    x = tf.concat([tf.expand_dims(context_vector, 1), x], axis=-1)\n",
        "\n",
        "    # passing the concatenated vector to the GRU\n",
        "    output, state = self.gru(x)\n",
        "\n",
        "    # output shape == (batch_size * 1, hidden_size)\n",
        "    output = tf.reshape(output, (-1, output.shape[2]))\n",
        "\n",
        "    # output shape == (batch_size, vocab)\n",
        "    x = self.fc(output)\n",
        "\n",
        "    return x, state, attention_weights"
      ],
      "execution_count": 23,
      "outputs": []
    },
    {
      "cell_type": "code",
      "metadata": {
        "colab": {
          "base_uri": "https://localhost:8080/"
        },
        "id": "xefZu9o0C3f7",
        "outputId": "31edee1f-dca9-4795-edc6-b51604663bea"
      },
      "source": [
        "decoder = Decoder(vocab_tar_size, embedding_dim, units, BATCH_SIZE)\n",
        "\n",
        "sample_decoder_output, _, _ = decoder(tf.random.uniform((BATCH_SIZE, 1)),\n",
        "                                      sample_hidden, sample_output)\n",
        "\n",
        "print ('Decoder output shape: (batch_size, vocab size) {}'.format(sample_decoder_output.shape))"
      ],
      "execution_count": 24,
      "outputs": [
        {
          "output_type": "stream",
          "name": "stdout",
          "text": [
            "Decoder output shape: (batch_size, vocab size) (64, 6370)\n"
          ]
        }
      ]
    },
    {
      "cell_type": "markdown",
      "metadata": {
        "id": "v73IOwDlGsZr"
      },
      "source": [
        "**Optimizer and the loss function**"
      ]
    },
    {
      "cell_type": "code",
      "metadata": {
        "id": "6hm8s7kDC3ir"
      },
      "source": [
        "optimizer = tf.keras.optimizers.Adam()\n",
        "loss_object = tf.keras.losses.SparseCategoricalCrossentropy(\n",
        "    from_logits=True, reduction='none')\n",
        "\n",
        "def loss_function(real, pred):\n",
        "  mask = tf.math.logical_not(tf.math.equal(real, 0))\n",
        "  loss_ = loss_object(real, pred)\n",
        "\n",
        "  mask = tf.cast(mask, dtype=loss_.dtype)\n",
        "  loss_ *= mask\n",
        "\n",
        "  return tf.reduce_mean(loss_)"
      ],
      "execution_count": 25,
      "outputs": []
    },
    {
      "cell_type": "markdown",
      "metadata": {
        "id": "Z_x0sEHjGx5T"
      },
      "source": [
        "**Checkpoints**"
      ]
    },
    {
      "cell_type": "code",
      "metadata": {
        "id": "nL9PKzSbC3lr"
      },
      "source": [
        "checkpoint_dir = './train_attention_checkpoints'\n",
        "checkpoint_prefix = os.path.join(checkpoint_dir, \"ckpt\")\n",
        "checkpoint = tf.train.Checkpoint(optimizer=optimizer,\n",
        "                                 encoder=encoder,\n",
        "                                 decoder=decoder)"
      ],
      "execution_count": 26,
      "outputs": []
    },
    {
      "cell_type": "code",
      "metadata": {
        "id": "HvZtdySlC3oU"
      },
      "source": [
        "@tf.function\n",
        "def train_step(inp, targ, enc_hidden):\n",
        "  loss = 0\n",
        "\n",
        "  with tf.GradientTape() as tape:\n",
        "    enc_output, enc_hidden = encoder(inp, enc_hidden)\n",
        "\n",
        "    dec_hidden = enc_hidden\n",
        "\n",
        "    dec_input = tf.expand_dims([targ_lang.word_index['<start>']] * BATCH_SIZE, 1)\n",
        "\n",
        "    # Teacher forcing - feeding the target as the next input\n",
        "    for t in range(1, targ.shape[1]):\n",
        "      # passing enc_output to the decoder\n",
        "      predictions, dec_hidden, _ = decoder(dec_input, dec_hidden, enc_output)\n",
        "\n",
        "      loss += loss_function(targ[:, t], predictions)\n",
        "\n",
        "      # using teacher forcing\n",
        "      dec_input = tf.expand_dims(targ[:, t], 1)\n",
        "\n",
        "  batch_loss = (loss / int(targ.shape[1]))\n",
        "\n",
        "  variables = encoder.trainable_variables + decoder.trainable_variables\n",
        "\n",
        "  gradients = tape.gradient(loss, variables)\n",
        "\n",
        "  optimizer.apply_gradients(zip(gradients, variables))\n",
        "\n",
        "  return batch_loss"
      ],
      "execution_count": 27,
      "outputs": []
    },
    {
      "cell_type": "code",
      "metadata": {
        "colab": {
          "base_uri": "https://localhost:8080/"
        },
        "id": "bgrLW4rlCtWf",
        "outputId": "9de2eb43-c6f9-4dd3-de39-f1516109bb02"
      },
      "source": [
        "EPOCHS = 20\n",
        "\n",
        "for epoch in range(EPOCHS):\n",
        "  start = time.time()\n",
        "\n",
        "  enc_hidden = encoder.initialize_hidden_state()\n",
        "  total_loss = 0\n",
        "\n",
        "  for (batch, (inp, targ)) in enumerate(dataset.take(steps_per_epoch)):\n",
        "    batch_loss = train_step(inp, targ, enc_hidden)\n",
        "    total_loss += batch_loss\n",
        "\n",
        "    if batch % 100 == 0:\n",
        "      print('Epoch {} Batch {} Loss {:.4f}'.format(epoch + 1,\n",
        "                                                   batch,\n",
        "                                                   batch_loss.numpy()))\n",
        "  # saving (checkpoint) the model every 2 epochs\n",
        "  if (epoch + 1) % 2 == 0:\n",
        "    checkpoint.save(file_prefix = checkpoint_prefix)\n",
        "\n",
        "  print('Epoch {} Loss {:.4f}'.format(epoch + 1,\n",
        "                                      total_loss / steps_per_epoch))\n",
        "  print('Time taken for 1 epoch {} sec\\n'.format(time.time() - start))"
      ],
      "execution_count": 28,
      "outputs": [
        {
          "output_type": "stream",
          "name": "stdout",
          "text": [
            "Epoch 1 Batch 0 Loss 4.5542\n",
            "Epoch 1 Batch 100 Loss 1.9653\n",
            "Epoch 1 Batch 200 Loss 1.8443\n",
            "Epoch 1 Batch 300 Loss 1.6937\n",
            "Epoch 1 Batch 400 Loss 1.6082\n",
            "Epoch 1 Batch 500 Loss 1.4249\n",
            "Epoch 1 Batch 600 Loss 1.3455\n",
            "Epoch 1 Batch 700 Loss 1.2732\n",
            "Epoch 1 Batch 800 Loss 1.1518\n",
            "Epoch 1 Batch 900 Loss 1.1065\n",
            "Epoch 1 Batch 1000 Loss 1.0698\n",
            "Epoch 1 Batch 1100 Loss 0.8994\n",
            "Epoch 1 Batch 1200 Loss 0.9989\n",
            "Epoch 1 Loss 1.4389\n",
            "Time taken for 1 epoch 254.14364099502563 sec\n",
            "\n",
            "Epoch 2 Batch 0 Loss 0.8046\n",
            "Epoch 2 Batch 100 Loss 0.8253\n",
            "Epoch 2 Batch 200 Loss 0.8154\n",
            "Epoch 2 Batch 300 Loss 0.7409\n",
            "Epoch 2 Batch 400 Loss 0.7165\n",
            "Epoch 2 Batch 500 Loss 0.6270\n",
            "Epoch 2 Batch 600 Loss 0.6073\n",
            "Epoch 2 Batch 700 Loss 0.6549\n",
            "Epoch 2 Batch 800 Loss 0.6259\n",
            "Epoch 2 Batch 900 Loss 0.5294\n",
            "Epoch 2 Batch 1000 Loss 0.5066\n",
            "Epoch 2 Batch 1100 Loss 0.6269\n",
            "Epoch 2 Batch 1200 Loss 0.3951\n",
            "Epoch 2 Loss 0.6361\n",
            "Time taken for 1 epoch 237.88229537010193 sec\n",
            "\n",
            "Epoch 3 Batch 0 Loss 0.4143\n",
            "Epoch 3 Batch 100 Loss 0.3049\n",
            "Epoch 3 Batch 200 Loss 0.2950\n",
            "Epoch 3 Batch 300 Loss 0.3563\n",
            "Epoch 3 Batch 400 Loss 0.3917\n",
            "Epoch 3 Batch 500 Loss 0.2078\n",
            "Epoch 3 Batch 600 Loss 0.2809\n",
            "Epoch 3 Batch 700 Loss 0.2803\n",
            "Epoch 3 Batch 800 Loss 0.2970\n",
            "Epoch 3 Batch 900 Loss 0.3260\n",
            "Epoch 3 Batch 1000 Loss 0.2841\n",
            "Epoch 3 Batch 1100 Loss 0.2724\n",
            "Epoch 3 Batch 1200 Loss 0.1891\n",
            "Epoch 3 Loss 0.3007\n",
            "Time taken for 1 epoch 234.94119143486023 sec\n",
            "\n",
            "Epoch 4 Batch 0 Loss 0.1642\n",
            "Epoch 4 Batch 100 Loss 0.1294\n",
            "Epoch 4 Batch 200 Loss 0.1471\n",
            "Epoch 4 Batch 300 Loss 0.1016\n",
            "Epoch 4 Batch 400 Loss 0.1469\n",
            "Epoch 4 Batch 500 Loss 0.1537\n",
            "Epoch 4 Batch 600 Loss 0.1474\n",
            "Epoch 4 Batch 700 Loss 0.1812\n",
            "Epoch 4 Batch 800 Loss 0.1692\n",
            "Epoch 4 Batch 900 Loss 0.1429\n",
            "Epoch 4 Batch 1000 Loss 0.1793\n",
            "Epoch 4 Batch 1100 Loss 0.1462\n",
            "Epoch 4 Batch 1200 Loss 0.1515\n",
            "Epoch 4 Loss 0.1669\n",
            "Time taken for 1 epoch 234.87706851959229 sec\n",
            "\n",
            "Epoch 5 Batch 0 Loss 0.1196\n",
            "Epoch 5 Batch 100 Loss 0.1357\n",
            "Epoch 5 Batch 200 Loss 0.1183\n",
            "Epoch 5 Batch 300 Loss 0.0708\n",
            "Epoch 5 Batch 400 Loss 0.0730\n",
            "Epoch 5 Batch 500 Loss 0.0595\n",
            "Epoch 5 Batch 600 Loss 0.0838\n",
            "Epoch 5 Batch 700 Loss 0.1265\n",
            "Epoch 5 Batch 800 Loss 0.1059\n",
            "Epoch 5 Batch 900 Loss 0.1293\n",
            "Epoch 5 Batch 1000 Loss 0.1136\n",
            "Epoch 5 Batch 1100 Loss 0.0759\n",
            "Epoch 5 Batch 1200 Loss 0.1091\n",
            "Epoch 5 Loss 0.1104\n",
            "Time taken for 1 epoch 233.65527510643005 sec\n",
            "\n",
            "Epoch 6 Batch 0 Loss 0.0684\n",
            "Epoch 6 Batch 100 Loss 0.0808\n",
            "Epoch 6 Batch 200 Loss 0.0654\n",
            "Epoch 6 Batch 300 Loss 0.0835\n",
            "Epoch 6 Batch 400 Loss 0.0668\n",
            "Epoch 6 Batch 500 Loss 0.0756\n",
            "Epoch 6 Batch 600 Loss 0.1029\n",
            "Epoch 6 Batch 700 Loss 0.0684\n",
            "Epoch 6 Batch 800 Loss 0.0650\n",
            "Epoch 6 Batch 900 Loss 0.0757\n",
            "Epoch 6 Batch 1000 Loss 0.0979\n",
            "Epoch 6 Batch 1100 Loss 0.0575\n",
            "Epoch 6 Batch 1200 Loss 0.0982\n",
            "Epoch 6 Loss 0.0851\n",
            "Time taken for 1 epoch 236.72855019569397 sec\n",
            "\n",
            "Epoch 7 Batch 0 Loss 0.0385\n",
            "Epoch 7 Batch 100 Loss 0.0648\n",
            "Epoch 7 Batch 200 Loss 0.0638\n",
            "Epoch 7 Batch 300 Loss 0.0634\n",
            "Epoch 7 Batch 400 Loss 0.0823\n",
            "Epoch 7 Batch 500 Loss 0.0697\n",
            "Epoch 7 Batch 600 Loss 0.0620\n",
            "Epoch 7 Batch 700 Loss 0.1100\n",
            "Epoch 7 Batch 800 Loss 0.0872\n",
            "Epoch 7 Batch 900 Loss 0.0535\n",
            "Epoch 7 Batch 1000 Loss 0.0759\n",
            "Epoch 7 Batch 1100 Loss 0.0898\n",
            "Epoch 7 Batch 1200 Loss 0.0805\n",
            "Epoch 7 Loss 0.0713\n",
            "Time taken for 1 epoch 236.81480145454407 sec\n",
            "\n",
            "Epoch 8 Batch 0 Loss 0.0608\n",
            "Epoch 8 Batch 100 Loss 0.0590\n",
            "Epoch 8 Batch 200 Loss 0.0423\n",
            "Epoch 8 Batch 300 Loss 0.0615\n",
            "Epoch 8 Batch 400 Loss 0.0440\n",
            "Epoch 8 Batch 500 Loss 0.0622\n",
            "Epoch 8 Batch 600 Loss 0.0603\n",
            "Epoch 8 Batch 700 Loss 0.0545\n",
            "Epoch 8 Batch 800 Loss 0.0644\n",
            "Epoch 8 Batch 900 Loss 0.0467\n",
            "Epoch 8 Batch 1000 Loss 0.0804\n",
            "Epoch 8 Batch 1100 Loss 0.0789\n",
            "Epoch 8 Batch 1200 Loss 0.1066\n",
            "Epoch 8 Loss 0.0646\n",
            "Time taken for 1 epoch 237.5977644920349 sec\n",
            "\n",
            "Epoch 9 Batch 0 Loss 0.0866\n",
            "Epoch 9 Batch 100 Loss 0.0349\n",
            "Epoch 9 Batch 200 Loss 0.0424\n",
            "Epoch 9 Batch 300 Loss 0.0473\n",
            "Epoch 9 Batch 400 Loss 0.0673\n",
            "Epoch 9 Batch 500 Loss 0.0550\n",
            "Epoch 9 Batch 600 Loss 0.0654\n",
            "Epoch 9 Batch 700 Loss 0.0935\n",
            "Epoch 9 Batch 800 Loss 0.0413\n",
            "Epoch 9 Batch 900 Loss 0.0644\n",
            "Epoch 9 Batch 1000 Loss 0.0485\n",
            "Epoch 9 Batch 1100 Loss 0.0483\n",
            "Epoch 9 Batch 1200 Loss 0.0767\n",
            "Epoch 9 Loss 0.0600\n",
            "Time taken for 1 epoch 235.42885613441467 sec\n",
            "\n",
            "Epoch 10 Batch 0 Loss 0.0405\n",
            "Epoch 10 Batch 100 Loss 0.0591\n",
            "Epoch 10 Batch 200 Loss 0.0304\n",
            "Epoch 10 Batch 300 Loss 0.0353\n",
            "Epoch 10 Batch 400 Loss 0.0208\n",
            "Epoch 10 Batch 500 Loss 0.0711\n",
            "Epoch 10 Batch 600 Loss 0.0723\n",
            "Epoch 10 Batch 700 Loss 0.0558\n",
            "Epoch 10 Batch 800 Loss 0.0409\n",
            "Epoch 10 Batch 900 Loss 0.0563\n",
            "Epoch 10 Batch 1000 Loss 0.0663\n",
            "Epoch 10 Batch 1100 Loss 0.0569\n",
            "Epoch 10 Batch 1200 Loss 0.0505\n",
            "Epoch 10 Loss 0.0563\n",
            "Time taken for 1 epoch 235.9465627670288 sec\n",
            "\n",
            "Epoch 11 Batch 0 Loss 0.0311\n",
            "Epoch 11 Batch 100 Loss 0.0406\n",
            "Epoch 11 Batch 200 Loss 0.0583\n",
            "Epoch 11 Batch 300 Loss 0.0554\n",
            "Epoch 11 Batch 400 Loss 0.0653\n",
            "Epoch 11 Batch 500 Loss 0.0845\n",
            "Epoch 11 Batch 600 Loss 0.0798\n",
            "Epoch 11 Batch 700 Loss 0.0631\n",
            "Epoch 11 Batch 800 Loss 0.0597\n",
            "Epoch 11 Batch 900 Loss 0.0596\n",
            "Epoch 11 Batch 1000 Loss 0.0556\n",
            "Epoch 11 Batch 1100 Loss 0.0606\n",
            "Epoch 11 Batch 1200 Loss 0.0492\n",
            "Epoch 11 Loss 0.0536\n",
            "Time taken for 1 epoch 237.25419068336487 sec\n",
            "\n",
            "Epoch 12 Batch 0 Loss 0.0565\n",
            "Epoch 12 Batch 100 Loss 0.0393\n",
            "Epoch 12 Batch 200 Loss 0.0445\n",
            "Epoch 12 Batch 300 Loss 0.0574\n",
            "Epoch 12 Batch 400 Loss 0.0746\n",
            "Epoch 12 Batch 500 Loss 0.0497\n",
            "Epoch 12 Batch 600 Loss 0.0393\n",
            "Epoch 12 Batch 700 Loss 0.0403\n",
            "Epoch 12 Batch 800 Loss 0.0304\n",
            "Epoch 12 Batch 900 Loss 0.0555\n",
            "Epoch 12 Batch 1000 Loss 0.0651\n",
            "Epoch 12 Batch 1100 Loss 0.0584\n",
            "Epoch 12 Batch 1200 Loss 0.0898\n",
            "Epoch 12 Loss 0.0521\n",
            "Time taken for 1 epoch 238.0259304046631 sec\n",
            "\n",
            "Epoch 13 Batch 0 Loss 0.0415\n",
            "Epoch 13 Batch 100 Loss 0.0471\n",
            "Epoch 13 Batch 200 Loss 0.0481\n",
            "Epoch 13 Batch 300 Loss 0.0667\n",
            "Epoch 13 Batch 400 Loss 0.0581\n",
            "Epoch 13 Batch 500 Loss 0.0276\n",
            "Epoch 13 Batch 600 Loss 0.0616\n",
            "Epoch 13 Batch 700 Loss 0.0340\n",
            "Epoch 13 Batch 800 Loss 0.0446\n",
            "Epoch 13 Batch 900 Loss 0.0511\n",
            "Epoch 13 Batch 1000 Loss 0.0647\n",
            "Epoch 13 Batch 1100 Loss 0.0709\n",
            "Epoch 13 Batch 1200 Loss 0.0553\n",
            "Epoch 13 Loss 0.0506\n",
            "Time taken for 1 epoch 237.15419936180115 sec\n",
            "\n",
            "Epoch 14 Batch 0 Loss 0.0305\n",
            "Epoch 14 Batch 100 Loss 0.0344\n",
            "Epoch 14 Batch 200 Loss 0.0483\n",
            "Epoch 14 Batch 300 Loss 0.0611\n",
            "Epoch 14 Batch 400 Loss 0.0387\n",
            "Epoch 14 Batch 500 Loss 0.0321\n",
            "Epoch 14 Batch 600 Loss 0.0374\n",
            "Epoch 14 Batch 700 Loss 0.0633\n",
            "Epoch 14 Batch 800 Loss 0.0699\n",
            "Epoch 14 Batch 900 Loss 0.0471\n",
            "Epoch 14 Batch 1000 Loss 0.0911\n",
            "Epoch 14 Batch 1100 Loss 0.0784\n",
            "Epoch 14 Batch 1200 Loss 0.0524\n",
            "Epoch 14 Loss 0.0478\n",
            "Time taken for 1 epoch 237.90709853172302 sec\n",
            "\n",
            "Epoch 15 Batch 0 Loss 0.0359\n",
            "Epoch 15 Batch 100 Loss 0.0344\n",
            "Epoch 15 Batch 200 Loss 0.0308\n",
            "Epoch 15 Batch 300 Loss 0.0360\n",
            "Epoch 15 Batch 400 Loss 0.0458\n",
            "Epoch 15 Batch 500 Loss 0.0308\n",
            "Epoch 15 Batch 600 Loss 0.0675\n",
            "Epoch 15 Batch 700 Loss 0.0491\n",
            "Epoch 15 Batch 800 Loss 0.0540\n",
            "Epoch 15 Batch 900 Loss 0.0622\n",
            "Epoch 15 Batch 1000 Loss 0.0356\n",
            "Epoch 15 Batch 1100 Loss 0.0310\n",
            "Epoch 15 Batch 1200 Loss 0.0565\n",
            "Epoch 15 Loss 0.0474\n",
            "Time taken for 1 epoch 261.9173352718353 sec\n",
            "\n",
            "Epoch 16 Batch 0 Loss 0.0272\n",
            "Epoch 16 Batch 100 Loss 0.0551\n",
            "Epoch 16 Batch 200 Loss 0.0429\n",
            "Epoch 16 Batch 300 Loss 0.0426\n",
            "Epoch 16 Batch 400 Loss 0.0373\n",
            "Epoch 16 Batch 500 Loss 0.0402\n",
            "Epoch 16 Batch 600 Loss 0.0412\n",
            "Epoch 16 Batch 700 Loss 0.0338\n",
            "Epoch 16 Batch 800 Loss 0.0596\n",
            "Epoch 16 Batch 900 Loss 0.0901\n",
            "Epoch 16 Batch 1000 Loss 0.0547\n",
            "Epoch 16 Batch 1100 Loss 0.0389\n",
            "Epoch 16 Batch 1200 Loss 0.0541\n",
            "Epoch 16 Loss 0.0470\n",
            "Time taken for 1 epoch 235.1680977344513 sec\n",
            "\n",
            "Epoch 17 Batch 0 Loss 0.0288\n",
            "Epoch 17 Batch 100 Loss 0.0375\n",
            "Epoch 17 Batch 200 Loss 0.0197\n",
            "Epoch 17 Batch 300 Loss 0.0126\n",
            "Epoch 17 Batch 400 Loss 0.0462\n",
            "Epoch 17 Batch 500 Loss 0.0614\n",
            "Epoch 17 Batch 600 Loss 0.0643\n",
            "Epoch 17 Batch 700 Loss 0.0239\n",
            "Epoch 17 Batch 800 Loss 0.0472\n",
            "Epoch 17 Batch 900 Loss 0.0340\n",
            "Epoch 17 Batch 1000 Loss 0.0459\n",
            "Epoch 17 Batch 1100 Loss 0.0620\n",
            "Epoch 17 Batch 1200 Loss 0.0472\n",
            "Epoch 17 Loss 0.0460\n",
            "Time taken for 1 epoch 236.69045734405518 sec\n",
            "\n",
            "Epoch 18 Batch 0 Loss 0.0378\n",
            "Epoch 18 Batch 100 Loss 0.0408\n",
            "Epoch 18 Batch 200 Loss 0.0494\n",
            "Epoch 18 Batch 300 Loss 0.0391\n",
            "Epoch 18 Batch 400 Loss 0.0555\n",
            "Epoch 18 Batch 500 Loss 0.0259\n",
            "Epoch 18 Batch 600 Loss 0.0520\n",
            "Epoch 18 Batch 700 Loss 0.0418\n",
            "Epoch 18 Batch 800 Loss 0.0528\n",
            "Epoch 18 Batch 900 Loss 0.0449\n",
            "Epoch 18 Batch 1000 Loss 0.0685\n",
            "Epoch 18 Batch 1100 Loss 0.0337\n",
            "Epoch 18 Batch 1200 Loss 0.0383\n",
            "Epoch 18 Loss 0.0441\n",
            "Time taken for 1 epoch 237.89858746528625 sec\n",
            "\n",
            "Epoch 19 Batch 0 Loss 0.0333\n",
            "Epoch 19 Batch 100 Loss 0.0393\n",
            "Epoch 19 Batch 200 Loss 0.0208\n",
            "Epoch 19 Batch 300 Loss 0.0606\n",
            "Epoch 19 Batch 400 Loss 0.0425\n",
            "Epoch 19 Batch 500 Loss 0.0390\n",
            "Epoch 19 Batch 600 Loss 0.0587\n",
            "Epoch 19 Batch 700 Loss 0.0405\n",
            "Epoch 19 Batch 800 Loss 0.0519\n",
            "Epoch 19 Batch 900 Loss 0.0743\n",
            "Epoch 19 Batch 1000 Loss 0.0500\n",
            "Epoch 19 Batch 1100 Loss 0.0689\n",
            "Epoch 19 Batch 1200 Loss 0.0459\n",
            "Epoch 19 Loss 0.0428\n",
            "Time taken for 1 epoch 237.11118865013123 sec\n",
            "\n",
            "Epoch 20 Batch 0 Loss 0.0425\n",
            "Epoch 20 Batch 100 Loss 0.0410\n",
            "Epoch 20 Batch 200 Loss 0.0247\n",
            "Epoch 20 Batch 300 Loss 0.0258\n",
            "Epoch 20 Batch 400 Loss 0.0322\n",
            "Epoch 20 Batch 500 Loss 0.0272\n",
            "Epoch 20 Batch 600 Loss 0.0376\n",
            "Epoch 20 Batch 700 Loss 0.0308\n",
            "Epoch 20 Batch 800 Loss 0.0604\n",
            "Epoch 20 Batch 900 Loss 0.0385\n",
            "Epoch 20 Batch 1000 Loss 0.0583\n",
            "Epoch 20 Batch 1100 Loss 0.0593\n",
            "Epoch 20 Batch 1200 Loss 0.0423\n",
            "Epoch 20 Loss 0.0428\n",
            "Time taken for 1 epoch 237.92632508277893 sec\n",
            "\n"
          ]
        }
      ]
    },
    {
      "cell_type": "markdown",
      "metadata": {
        "id": "mO7GJvvbG_Ve"
      },
      "source": [
        "**Translate**\n",
        "\n",
        "The evaluate function is similar to the training loop, except we don't use teacher forcing here. The input to the decoder at each time step is its previous predictions along with the hidden state and the encoder output.\n",
        "Stop predicting when the model predicts the end token.\n",
        "And store the attention weights for every time step.\n",
        "Note: The encoder output is calculated only once for one input."
      ]
    },
    {
      "cell_type": "code",
      "metadata": {
        "id": "h092OBL2CtZP"
      },
      "source": [
        "def evaluate(sentence):\n",
        "  attention_plot = np.zeros((max_length_targ, max_length_inp))\n",
        "\n",
        "  sentence = preprocess_sentence(sentence)\n",
        "\n",
        "  inputs = [inp_lang.word_index[i] for i in sentence.split(' ')]\n",
        "  inputs = tf.keras.preprocessing.sequence.pad_sequences([inputs],\n",
        "                                                         maxlen=max_length_inp,\n",
        "                                                         padding='post')\n",
        "  inputs = tf.convert_to_tensor(inputs)\n",
        "\n",
        "  result = ''\n",
        "\n",
        "  hidden = [tf.zeros((1, units))]\n",
        "  enc_out, enc_hidden = encoder(inputs, hidden)\n",
        "\n",
        "  dec_hidden = enc_hidden\n",
        "  dec_input = tf.expand_dims([targ_lang.word_index['<start>']], 0)\n",
        "\n",
        "  for t in range(max_length_targ):\n",
        "    predictions, dec_hidden, attention_weights = decoder(dec_input,\n",
        "                                                         dec_hidden,\n",
        "                                                         enc_out)\n",
        "\n",
        "    # storing the attention weights to plot later on\n",
        "    attention_weights = tf.reshape(attention_weights, (-1, ))\n",
        "    attention_plot[t] = attention_weights.numpy()\n",
        "\n",
        "    predicted_id = tf.argmax(predictions[0]).numpy()\n",
        "\n",
        "    result += targ_lang.index_word[predicted_id] + ' '\n",
        "\n",
        "    if targ_lang.index_word[predicted_id] == '<end>':\n",
        "      return result, sentence, attention_plot\n",
        "\n",
        "    # the predicted ID is fed back into the model\n",
        "    dec_input = tf.expand_dims([predicted_id], 0)\n",
        "\n",
        "  return result, sentence, attention_plot"
      ],
      "execution_count": 29,
      "outputs": []
    },
    {
      "cell_type": "code",
      "metadata": {
        "id": "_Q0Iu0EiHCeV"
      },
      "source": [
        "# function for plotting the attention weights\n",
        "def plot_attention(attention, sentence, predicted_sentence):\n",
        "  fig = plt.figure(figsize=(10,10))\n",
        "  ax = fig.add_subplot(1, 1, 1)\n",
        "  ax.matshow(attention, cmap='viridis')\n",
        "\n",
        "  fontdict = {'fontsize': 14}\n",
        "\n",
        "  ax.set_xticklabels([''] + sentence, fontdict=fontdict, rotation=90)\n",
        "  ax.set_yticklabels([''] + predicted_sentence, fontdict=fontdict)\n",
        "\n",
        "  ax.xaxis.set_major_locator(ticker.MultipleLocator(1))\n",
        "  ax.yaxis.set_major_locator(ticker.MultipleLocator(1))\n",
        "\n",
        "  plt.show()"
      ],
      "execution_count": 30,
      "outputs": []
    },
    {
      "cell_type": "code",
      "metadata": {
        "id": "m8kZunXaHCgs"
      },
      "source": [
        "def translate(sentence):\n",
        "  result, sentence, attention_plot = evaluate(sentence)\n",
        "\n",
        "  print('Input: %s' % (sentence))\n",
        "  print('Predicted translation: {}'.format(result))\n",
        "\n",
        "  attention_plot = attention_plot[:len(result.split(' ')), :len(sentence.split(' '))]\n",
        "  plot_attention(attention_plot, sentence.split(' '), result.split(' '))"
      ],
      "execution_count": 31,
      "outputs": []
    },
    {
      "cell_type": "markdown",
      "metadata": {
        "id": "MBAiwUYxHUBn"
      },
      "source": [
        "**Restore the latest checkpoint and test**"
      ]
    },
    {
      "cell_type": "code",
      "metadata": {
        "colab": {
          "base_uri": "https://localhost:8080/"
        },
        "id": "Zgi4PyppHCjI",
        "outputId": "8d36f9a0-1ed6-4918-db20-a7c2da0f47ed"
      },
      "source": [
        "# restoring the latest checkpoint in checkpoint_dir\n",
        "checkpoint.restore(tf.train.latest_checkpoint(checkpoint_dir))"
      ],
      "execution_count": 32,
      "outputs": [
        {
          "output_type": "execute_result",
          "data": {
            "text/plain": [
              "<tensorflow.python.training.tracking.util.CheckpointLoadStatus at 0x7f247dfa8410>"
            ]
          },
          "metadata": {},
          "execution_count": 32
        }
      ]
    },
    {
      "cell_type": "code",
      "metadata": {
        "colab": {
          "base_uri": "https://localhost:8080/",
          "height": 676
        },
        "id": "rcDfsJ0HCtb9",
        "outputId": "b3e77e73-3c31-4c51-af46-78fcecc3fea0"
      },
      "source": [
        "translate('Come stai?')"
      ],
      "execution_count": 33,
      "outputs": [
        {
          "output_type": "stream",
          "name": "stdout",
          "text": [
            "Input: <start> come stai ? <end>\n",
            "Predicted translation: how are you ? <end> \n"
          ]
        },
        {
          "output_type": "display_data",
          "data": {
            "image/png": "[encoded data removed]",
            "text/plain": [
              "<Figure size 720x720 with 1 Axes>"
            ]
          },
          "metadata": {
            "needs_background": "light"
          }
        }
      ]
    },
    {
      "cell_type": "code",
      "metadata": {
        "colab": {
          "base_uri": "https://localhost:8080/",
          "height": 676
        },
        "id": "-kzipCvoCteo",
        "outputId": "2e835154-d825-44af-b9e8-e17d32e9af5e"
      },
      "source": [
        "translate('Non posso arrivare.')"
      ],
      "execution_count": 35,
      "outputs": [
        {
          "output_type": "stream",
          "name": "stdout",
          "text": [
            "Input: <start> non posso arrivare . <end>\n",
            "Predicted translation: i can't sit down . <end> \n"
          ]
        },
        {
          "output_type": "display_data",
          "data": {
            "image/png": "[encoded data removed]",
            "text/plain": [
              "<Figure size 720x720 with 1 Axes>"
            ]
          },
          "metadata": {
            "needs_background": "light"
          }
        }
      ]
    },
    {
      "cell_type": "code",
      "metadata": {
        "colab": {
          "base_uri": "https://localhost:8080/",
          "height": 681
        },
        "id": "7TkYZuS4aozi",
        "outputId": "c691f28f-0bd3-4ff6-8b83-a59bd27aac9a"
      },
      "source": [
        "translate('Andiamo al vacanza.')"
      ],
      "execution_count": 36,
      "outputs": [
        {
          "output_type": "stream",
          "name": "stdout",
          "text": [
            "Input: <start> andiamo al vacanza . <end>\n",
            "Predicted translation: let's go on vacation . <end> \n"
          ]
        },
        {
          "output_type": "display_data",
          "data": {
            "image/png": "[encoded data removed]",
            "text/plain": [
              "<Figure size 720x720 with 1 Axes>"
            ]
          },
          "metadata": {
            "needs_background": "light"
          }
        }
      ]
    },
    {
      "cell_type": "code",
      "metadata": {
        "id": "kLX-HIVsa5bz"
      },
      "source": [
        ""
      ],
      "execution_count": null,
      "outputs": []
    }
  ]
}