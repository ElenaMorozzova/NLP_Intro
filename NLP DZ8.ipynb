{
  "nbformat": 4,
  "nbformat_minor": 0,
  "metadata": {
    "colab": {
      "name": "NLP DZ8.ipynb",
      "provenance": [],
      "collapsed_sections": [],
      "authorship_tag": "ABX9TyPRhrVe+jt7YwpOBr6/8S9+",
      "include_colab_link": true
    },
    "kernelspec": {
      "name": "python3",
      "display_name": "Python 3"
    },
    "language_info": {
      "name": "python"
    }
  },
  "cells": [
    {
      "cell_type": "markdown",
      "metadata": {
        "id": "view-in-github",
        "colab_type": "text"
      },
      "source": [
        "<a href=\"https://colab.research.google.com/github/ElenaMorozzova/NLP_Intro/blob/main/NLP%20DZ8.ipynb\" target=\"_parent\"><img src=\"https://colab.research.google.com/assets/colab-badge.svg\" alt=\"Open In Colab\"/></a>"
      ]
    },
    {
      "cell_type": "markdown",
      "metadata": {
        "id": "BBAJZ_kv3txF"
      },
      "source": [
        "Convolutional neural networks (CNN) vs recurrent neural networks (RNN) in NLP"
      ]
    },
    {
      "cell_type": "markdown",
      "metadata": {
        "id": "E2ddIXsf4P5m"
      },
      "source": [
        "LSTMs (Long Short Term Memory) are a special kind of RNN, capable of learning long-term dependencies which make RNN smart at remembering things that have happened in the past and finding patterns across time to make its next guesses make sense.\n",
        "\n",
        "RNN pros: RNN captures the sequential information present in the input data i.e. dependency between the words in the text while making predictions. Better when classification is determined by a long range semantic\n",
        "\n",
        "RNN cons: Deep RNNs suffer from the vanishing and exploding gradient problem which is a common problem in all the different types of neural networks."
      ]
    },
    {
      "cell_type": "markdown",
      "metadata": {
        "id": "tSiVCTWE4P8M"
      },
      "source": [
        "CNN has several parallel filters which can be tuned to extract different features of interest.\n",
        "\n",
        "CNN pros: good at extracting local and position-invariant features. Computation time CNN seems to be much faster (~ 5x ) than RNN\n",
        "\n",
        "CNN cons: vanishing and exploding gradient problem"
      ]
    },
    {
      "cell_type": "code",
      "metadata": {
        "colab": {
          "resources": {
            "http://localhost:8080/nbextensions/google.colab/files.js": {
              "data": "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",
              "ok": true,
              "headers": [
                [
                  "content-type",
                  "application/javascript"
                ]
              ],
              "status": 200,
              "status_text": ""
            }
          },
          "base_uri": "https://localhost:8080/",
          "height": 140
        },
        "id": "I-HogeLMv5tI",
        "outputId": "471176ab-3682-4bd5-fef8-7198187f1e9e"
      },
      "source": [
        "from google.colab import files\n",
        "uploaded = files.upload()"
      ],
      "execution_count": 1,
      "outputs": [
        {
          "output_type": "display_data",
          "data": {
            "text/html": [
              "\n",
              "     <input type=\"file\" id=\"files-f3c09e79-53b6-4f60-ad44-cddf6cfb15e6\" name=\"files[]\" multiple disabled\n",
              "        style=\"border:none\" />\n",
              "     <output id=\"result-f3c09e79-53b6-4f60-ad44-cddf6cfb15e6\">\n",
              "      Upload widget is only available when the cell has been executed in the\n",
              "      current browser session. Please rerun this cell to enable.\n",
              "      </output>\n",
              "      <script src=\"/nbextensions/google.colab/files.js\"></script> "
            ],
            "text/plain": [
              "<IPython.core.display.HTML object>"
            ]
          },
          "metadata": {}
        },
        {
          "output_type": "stream",
          "name": "stdout",
          "text": [
            "Saving test.csv to test.csv\n",
            "Saving train.csv to train.csv\n",
            "Saving val.csv to val.csv\n"
          ]
        }
      ]
    },
    {
      "cell_type": "code",
      "metadata": {
        "colab": {
          "base_uri": "https://localhost:8080/"
        },
        "id": "bfyHYNy9wcQm",
        "outputId": "9a94bef9-c42a-484b-cc34-f7b266b68683"
      },
      "source": [
        "# !pip install stop_words\n",
        "# !pip install pymorphy2\n",
        "\n",
        "import pandas as pd\n",
        "from string import punctuation\n",
        "from stop_words import get_stop_words\n",
        "from pymorphy2 import MorphAnalyzer\n",
        "import re\n",
        "\n",
        "#  df import\n",
        "df_train = pd.read_csv(\"train.csv\")\n",
        "df_test = pd.read_csv(\"test.csv\")\n",
        "df_val = pd.read_csv(\"val.csv\")"
      ],
      "execution_count": 6,
      "outputs": [
        {
          "output_type": "stream",
          "name": "stdout",
          "text": [
            "Requirement already satisfied: pymorphy2 in /usr/local/lib/python3.7/dist-packages (0.9.1)\n",
            "Requirement already satisfied: docopt>=0.6 in /usr/local/lib/python3.7/dist-packages (from pymorphy2) (0.6.2)\n",
            "Requirement already satisfied: dawg-python>=0.7.1 in /usr/local/lib/python3.7/dist-packages (from pymorphy2) (0.7.2)\n",
            "Requirement already satisfied: pymorphy2-dicts-ru<3.0,>=2.4 in /usr/local/lib/python3.7/dist-packages (from pymorphy2) (2.4.417127.4579844)\n"
          ]
        }
      ]
    },
    {
      "cell_type": "code",
      "metadata": {
        "colab": {
          "base_uri": "https://localhost:8080/",
          "height": 204
        },
        "id": "rRazO9aawqtC",
        "outputId": "fedd45e5-afde-4abc-a813-749c1698bdbb"
      },
      "source": [
        "df_train.head()"
      ],
      "execution_count": 7,
      "outputs": [
        {
          "output_type": "execute_result",
          "data": {
            "text/html": [
              "<div>\n",
              "<style scoped>\n",
              "    .dataframe tbody tr th:only-of-type {\n",
              "        vertical-align: middle;\n",
              "    }\n",
              "\n",
              "    .dataframe tbody tr th {\n",
              "        vertical-align: top;\n",
              "    }\n",
              "\n",
              "    .dataframe thead th {\n",
              "        text-align: right;\n",
              "    }\n",
              "</style>\n",
              "<table border=\"1\" class=\"dataframe\">\n",
              "  <thead>\n",
              "    <tr style=\"text-align: right;\">\n",
              "      <th></th>\n",
              "      <th>id</th>\n",
              "      <th>text</th>\n",
              "      <th>class</th>\n",
              "    </tr>\n",
              "  </thead>\n",
              "  <tbody>\n",
              "    <tr>\n",
              "      <th>0</th>\n",
              "      <td>0</td>\n",
              "      <td>@alisachachka не уезжаааааааай. :(❤ я тоже не ...</td>\n",
              "      <td>0</td>\n",
              "    </tr>\n",
              "    <tr>\n",
              "      <th>1</th>\n",
              "      <td>1</td>\n",
              "      <td>RT @GalyginVadim: Ребята и девчата!\\nВсе в кин...</td>\n",
              "      <td>1</td>\n",
              "    </tr>\n",
              "    <tr>\n",
              "      <th>2</th>\n",
              "      <td>2</td>\n",
              "      <td>RT @ARTEM_KLYUSHIN: Кто ненавидит пробки ретви...</td>\n",
              "      <td>0</td>\n",
              "    </tr>\n",
              "    <tr>\n",
              "      <th>3</th>\n",
              "      <td>3</td>\n",
              "      <td>RT @epupybobv: Хочется котлету по-киевски. Зап...</td>\n",
              "      <td>1</td>\n",
              "    </tr>\n",
              "    <tr>\n",
              "      <th>4</th>\n",
              "      <td>4</td>\n",
              "      <td>@KarineKurganova @Yess__Boss босапопа есбоса н...</td>\n",
              "      <td>1</td>\n",
              "    </tr>\n",
              "  </tbody>\n",
              "</table>\n",
              "</div>"
            ],
            "text/plain": [
              "   id                                               text  class\n",
              "0   0  @alisachachka не уезжаааааааай. :(❤ я тоже не ...      0\n",
              "1   1  RT @GalyginVadim: Ребята и девчата!\\nВсе в кин...      1\n",
              "2   2  RT @ARTEM_KLYUSHIN: Кто ненавидит пробки ретви...      0\n",
              "3   3  RT @epupybobv: Хочется котлету по-киевски. Зап...      1\n",
              "4   4  @KarineKurganova @Yess__Boss босапопа есбоса н...      1"
            ]
          },
          "metadata": {},
          "execution_count": 7
        }
      ]
    },
    {
      "cell_type": "code",
      "metadata": {
        "id": "p7r1f7GGyY5N"
      },
      "source": [
        "# Preprocessing\n",
        "sw = set(get_stop_words(\"ru\"))\n",
        "exclude = set(punctuation)\n",
        "morpher = MorphAnalyzer()\n",
        "\n",
        "def preprocess_text(txt):\n",
        "    txt = str(txt)\n",
        "    txt = \"\".join(c for c in txt if c not in exclude)\n",
        "    txt = txt.lower()\n",
        "    txt = re.sub(\"\\sне\", \"не\", txt)\n",
        "    txt = [morpher.parse(word)[0].normal_form for word in txt.split() if word not in sw]\n",
        "    return \" \".join(txt)\n",
        "\n",
        "df_train['text'] = df_train['text'].apply(preprocess_text)\n",
        "df_val['text'] = df_val['text'].apply(preprocess_text)\n",
        "df_test['text'] = df_test['text'].apply(preprocess_text)"
      ],
      "execution_count": 8,
      "outputs": []
    },
    {
      "cell_type": "code",
      "metadata": {
        "id": "9wF-sJ-1yhtM"
      },
      "source": [
        "import numpy as np\n",
        "import keras\n",
        "\n",
        "from keras.models import Sequential, Model\n",
        "from keras.layers import Dense, Dropout, Activation, Input, Embedding, Conv1D, GlobalMaxPool1D, AveragePooling1D, SimpleRNN, LSTM, GRU, Masking, Flatten, add\n",
        "from keras.preprocessing.text import Tokenizer\n",
        "from keras.preprocessing.sequence import pad_sequences\n",
        "from keras.callbacks import TensorBoard \n",
        "from keras.losses import categorical_crossentropy\n",
        "from keras.callbacks import EarlyStopping  "
      ],
      "execution_count": 77,
      "outputs": []
    },
    {
      "cell_type": "code",
      "metadata": {
        "id": "HcN_W6Ee085f"
      },
      "source": [
        "text_corpus_train = df_train['text'].values\n",
        "text_corpus_valid = df_val['text'].values\n",
        "text_corpus_test = df_test['text'].values"
      ],
      "execution_count": 19,
      "outputs": []
    },
    {
      "cell_type": "code",
      "metadata": {
        "id": "AxkreLUh09W-"
      },
      "source": [
        "tokenizer = Tokenizer(num_words=None, \n",
        "                     filters='#$%&()*+-<=>@[\\\\]^_`{|}~\\t\\n',\n",
        "                     lower = False, split = ' ')\n",
        "tokenizer.fit_on_texts(text_corpus_train)\n",
        "\n",
        "sequences_train = tokenizer.texts_to_sequences(text_corpus_train)\n",
        "sequences_val = tokenizer.texts_to_sequences(text_corpus_valid)\n",
        "sequences_test = tokenizer.texts_to_sequences(text_corpus_test)\n",
        "\n",
        "word_count = len(tokenizer.index_word) + 1\n",
        "training_length = max([len(i.split()) for i in text_corpus_train])\n",
        "\n",
        "X_train = pad_sequences(sequences_train, maxlen=training_length)\n",
        "X_valid = pad_sequences(sequences_val, maxlen=training_length)"
      ],
      "execution_count": 20,
      "outputs": []
    },
    {
      "cell_type": "code",
      "metadata": {
        "id": "maTHhpwh09Z3"
      },
      "source": [
        "y_train = df_train['class'].values\n",
        "y_val = df_val['class'].values"
      ],
      "execution_count": 21,
      "outputs": []
    },
    {
      "cell_type": "code",
      "metadata": {
        "id": "mT_XQjA32vru"
      },
      "source": [
        "import matplotlib.pyplot as plt\n",
        "\n",
        "def plot_history(history):\n",
        "    \n",
        "    fig, (ax1, ax2) = plt.subplots(1, 2, figsize=(15,4))\n",
        "    fig.suptitle('Horizontally stacked subplots')\n",
        "       \n",
        "    ax1.plot(history.history['accuracy'])\n",
        "    ax1.plot(history.history['val_accuracy'])\n",
        "    ax1.set_title('model accuracy')\n",
        "    ax1.set(xlabel='epoch', ylabel='accuracy')\n",
        "    ax1.legend(['train', 'test'], loc='lower right')\n",
        "    \n",
        "    ax2.plot(history.history['loss'])\n",
        "    ax2.plot(history.history['val_loss'])\n",
        "    ax2.set_title('model loss')\n",
        "    ax2.set(xlabel='epoch', ylabel='loss')\n",
        "    ax2.legend(['train', 'test'], loc='lower right')"
      ],
      "execution_count": 23,
      "outputs": []
    },
    {
      "cell_type": "markdown",
      "metadata": {
        "id": "tRumqBWN6SZv"
      },
      "source": [
        "CNN with 1 Convolitional layer"
      ]
    },
    {
      "cell_type": "code",
      "metadata": {
        "colab": {
          "base_uri": "https://localhost:8080/"
        },
        "id": "L7yG9YTx2vuY",
        "outputId": "93bb8380-6fc8-4573-d33d-644237705610"
      },
      "source": [
        "dim = 30\n",
        "\n",
        "inputs = Input(shape=(X_train.shape[1],))\n",
        "\n",
        "x =     Embedding(input_dim=word_count,\n",
        "              input_length=training_length,\n",
        "              output_dim=dim,\n",
        "              trainable=True,\n",
        "              mask_zero=True)(inputs)\n",
        "\n",
        "x = Conv1D(128, 3, activation='relu')(x)\n",
        "\n",
        "x = GlobalMaxPool1D()(x)\n",
        "#x = Flatten()(x)\n",
        "x = Dense(64, activation='relu')(x)\n",
        "x = Dropout(0.5)(x)\n",
        "x = Dense(1, activation='sigmoid')(x)\n",
        "\n",
        "\n",
        "model = Model(inputs=inputs, outputs=x)\n",
        "model.summary()\n",
        "model.compile(optimizer='adam', loss='binary_crossentropy', metrics=['accuracy'])"
      ],
      "execution_count": 24,
      "outputs": [
        {
          "output_type": "stream",
          "name": "stdout",
          "text": [
            "Model: \"model\"\n",
            "_________________________________________________________________\n",
            " Layer (type)                Output Shape              Param #   \n",
            "=================================================================\n",
            " input_1 (InputLayer)        [(None, 27)]              0         \n",
            "                                                                 \n",
            " embedding (Embedding)       (None, 27, 30)            7743240   \n",
            "                                                                 \n",
            " conv1d (Conv1D)             (None, 25, 128)           11648     \n",
            "                                                                 \n",
            " global_max_pooling1d (Globa  (None, 128)              0         \n",
            " lMaxPooling1D)                                                  \n",
            "                                                                 \n",
            " dense (Dense)               (None, 64)                8256      \n",
            "                                                                 \n",
            " dropout (Dropout)           (None, 64)                0         \n",
            "                                                                 \n",
            " dense_1 (Dense)             (None, 1)                 65        \n",
            "                                                                 \n",
            "=================================================================\n",
            "Total params: 7,763,209\n",
            "Trainable params: 7,763,209\n",
            "Non-trainable params: 0\n",
            "_________________________________________________________________\n"
          ]
        }
      ]
    },
    {
      "cell_type": "code",
      "metadata": {
        "colab": {
          "base_uri": "https://localhost:8080/",
          "height": 444
        },
        "id": "LFvrmnON2vxR",
        "outputId": "7bbaa5d0-1274-410e-91b8-db6812359c73"
      },
      "source": [
        "callback = tf.keras.callbacks.EarlyStopping(monitor='val_accuracy', patience=3, restore_best_weights=True)\n",
        "\n",
        "history = model.fit(X_train, y_train, batch_size=256, epochs=15, \n",
        "          validation_data=(X_valid, y_val), callbacks=[callback], verbose=True)\n",
        "\n",
        "plot_history(history)"
      ],
      "execution_count": 25,
      "outputs": [
        {
          "output_type": "stream",
          "name": "stdout",
          "text": [
            "Epoch 1/15\n",
            "709/709 [==============================] - 42s 58ms/step - loss: 0.5402 - accuracy: 0.7165 - val_loss: 0.5074 - val_accuracy: 0.7477\n",
            "Epoch 2/15\n",
            "709/709 [==============================] - 41s 58ms/step - loss: 0.2894 - accuracy: 0.8816 - val_loss: 0.5992 - val_accuracy: 0.7396\n",
            "Epoch 3/15\n",
            "709/709 [==============================] - 41s 58ms/step - loss: 0.1036 - accuracy: 0.9637 - val_loss: 0.7754 - val_accuracy: 0.7289\n",
            "Epoch 4/15\n",
            "709/709 [==============================] - 40s 57ms/step - loss: 0.0426 - accuracy: 0.9858 - val_loss: 1.0427 - val_accuracy: 0.7227\n"
          ]
        },
        {
          "output_type": "display_data",
          "data": {
            "image/png": "[encoded data removed]",
            "text/plain": [
              "<Figure size 1080x288 with 2 Axes>"
            ]
          },
          "metadata": {
            "needs_background": "light"
          }
        }
      ]
    },
    {
      "cell_type": "code",
      "metadata": {
        "colab": {
          "base_uri": "https://localhost:8080/"
        },
        "id": "pWQFE9-009dB",
        "outputId": "ab7413fe-7f91-4e17-e902-0ede6fa35d44"
      },
      "source": [
        "model.evaluate(X_valid, y_val)"
      ],
      "execution_count": 32,
      "outputs": [
        {
          "output_type": "stream",
          "name": "stdout",
          "text": [
            "709/709 [==============================] - 1s 2ms/step - loss: 0.5074 - accuracy: 0.7477\n"
          ]
        },
        {
          "output_type": "execute_result",
          "data": {
            "text/plain": [
              "[0.5074216723442078, 0.7476524114608765]"
            ]
          },
          "metadata": {},
          "execution_count": 32
        }
      ]
    },
    {
      "cell_type": "markdown",
      "metadata": {
        "id": "8tyFY9DVAkDF"
      },
      "source": [
        "\"LeNet-5 like\" CNN Architecture"
      ]
    },
    {
      "cell_type": "code",
      "metadata": {
        "colab": {
          "base_uri": "https://localhost:8080/"
        },
        "id": "tJAkTT0G09gT",
        "outputId": "ef9721ce-d1a7-4ae0-c727-863b6e2e6ed7"
      },
      "source": [
        "inputs = Input(shape=(X_train.shape[1],))\n",
        "\n",
        "x =     Embedding(input_dim=word_count,\n",
        "              input_length=training_length,\n",
        "              output_dim=dim,\n",
        "              trainable=True,\n",
        "              mask_zero=True)(inputs)\n",
        "\n",
        "x = Conv1D(128, 3, activation='relu')(x)\n",
        "x = AveragePooling1D()(x)\n",
        "\n",
        "x = Conv1D(160, 3, activation='relu')(x)\n",
        "x = AveragePooling1D()(x)\n",
        "\n",
        "x = Flatten()(x)\n",
        "\n",
        "x = Dense(120, activation='relu')(x)\n",
        "x = Dense(84, activation='relu')(x)\n",
        "x = Dense(1, activation='sigmoid')(x)\n",
        "\n",
        "model = Model(inputs=inputs, outputs=x)\n",
        "model.summary()\n",
        "model.compile(optimizer='adam', loss='binary_crossentropy', metrics=['accuracy'])"
      ],
      "execution_count": 39,
      "outputs": [
        {
          "output_type": "stream",
          "name": "stdout",
          "text": [
            "Model: \"model_1\"\n",
            "_________________________________________________________________\n",
            " Layer (type)                Output Shape              Param #   \n",
            "=================================================================\n",
            " input_5 (InputLayer)        [(None, 27)]              0         \n",
            "                                                                 \n",
            " embedding_4 (Embedding)     (None, 27, 30)            7743240   \n",
            "                                                                 \n",
            " conv1d_4 (Conv1D)           (None, 25, 128)           11648     \n",
            "                                                                 \n",
            " average_pooling1d_2 (Averag  (None, 12, 128)          0         \n",
            " ePooling1D)                                                     \n",
            "                                                                 \n",
            " conv1d_5 (Conv1D)           (None, 10, 160)           61600     \n",
            "                                                                 \n",
            " average_pooling1d_3 (Averag  (None, 5, 160)           0         \n",
            " ePooling1D)                                                     \n",
            "                                                                 \n",
            " flatten (Flatten)           (None, 800)               0         \n",
            "                                                                 \n",
            " dense_2 (Dense)             (None, 120)               96120     \n",
            "                                                                 \n",
            " dense_3 (Dense)             (None, 84)                10164     \n",
            "                                                                 \n",
            " dense_4 (Dense)             (None, 1)                 85        \n",
            "                                                                 \n",
            "=================================================================\n",
            "Total params: 7,922,857\n",
            "Trainable params: 7,922,857\n",
            "Non-trainable params: 0\n",
            "_________________________________________________________________\n"
          ]
        }
      ]
    },
    {
      "cell_type": "code",
      "metadata": {
        "colab": {
          "base_uri": "https://localhost:8080/",
          "height": 444
        },
        "id": "IDc2Ujv509jQ",
        "outputId": "ef31d546-a02c-42ff-e404-21b69a25280b"
      },
      "source": [
        "callback = tf.keras.callbacks.EarlyStopping(monitor='val_accuracy', patience=3, restore_best_weights=True)\n",
        "\n",
        "history = model.fit(X_train, y_train, batch_size=256, epochs=15, \n",
        "          validation_data=(X_valid, y_val), callbacks=[callback], verbose=True)\n",
        "\n",
        "plot_history(history)"
      ],
      "execution_count": 40,
      "outputs": [
        {
          "output_type": "stream",
          "name": "stdout",
          "text": [
            "Epoch 1/15\n",
            "709/709 [==============================] - 57s 79ms/step - loss: 0.5672 - accuracy: 0.6956 - val_loss: 0.5624 - val_accuracy: 0.7113\n",
            "Epoch 2/15\n",
            "709/709 [==============================] - 56s 79ms/step - loss: 0.3103 - accuracy: 0.8680 - val_loss: 0.6436 - val_accuracy: 0.7006\n",
            "Epoch 3/15\n",
            "709/709 [==============================] - 56s 78ms/step - loss: 0.1357 - accuracy: 0.9470 - val_loss: 0.8730 - val_accuracy: 0.6915\n",
            "Epoch 4/15\n",
            "709/709 [==============================] - 56s 79ms/step - loss: 0.0707 - accuracy: 0.9723 - val_loss: 1.0810 - val_accuracy: 0.6847\n"
          ]
        },
        {
          "output_type": "display_data",
          "data": {
            "image/png": "[encoded data removed]",
            "text/plain": [
              "<Figure size 1080x288 with 2 Axes>"
            ]
          },
          "metadata": {
            "needs_background": "light"
          }
        }
      ]
    },
    {
      "cell_type": "code",
      "metadata": {
        "colab": {
          "base_uri": "https://localhost:8080/"
        },
        "id": "d08OEiFTB4zh",
        "outputId": "7e35535d-6d05-447f-8d4f-8cc5049cfd78"
      },
      "source": [
        "# Accuracy is lower than in CNN-1\n",
        "model.evaluate(X_valid, y_val)"
      ],
      "execution_count": 41,
      "outputs": [
        {
          "output_type": "stream",
          "name": "stdout",
          "text": [
            "709/709 [==============================] - 2s 3ms/step - loss: 0.5624 - accuracy: 0.7113\n"
          ]
        },
        {
          "output_type": "execute_result",
          "data": {
            "text/plain": [
              "[0.5624372363090515, 0.7112815976142883]"
            ]
          },
          "metadata": {},
          "execution_count": 41
        }
      ]
    },
    {
      "cell_type": "markdown",
      "metadata": {
        "id": "gtJquOqoDf-s"
      },
      "source": [
        "LSTM with 1 LSTM layer"
      ]
    },
    {
      "cell_type": "code",
      "metadata": {
        "colab": {
          "base_uri": "https://localhost:8080/"
        },
        "id": "Jp5PCzwoDKVK",
        "outputId": "a44d16a5-ce4d-4498-afb4-9c432a23a3af"
      },
      "source": [
        "inputs = Input(shape=(X_train.shape[1],))\n",
        "\n",
        "x =     Embedding(input_dim=word_count,\n",
        "              input_length=training_length,\n",
        "              output_dim=30,\n",
        "              trainable=True,\n",
        "              mask_zero=True)(inputs)\n",
        "\n",
        "x = LSTM(64, recurrent_dropout=0.2)(x)\n",
        "x = Dense(64, activation='relu')(x)\n",
        "x = Dropout(0.5)(x)\n",
        "x = Dense(1, activation='sigmoid')(x)\n",
        "\n",
        "model = Model(inputs=inputs, outputs=x)\n",
        "model.summary()\n",
        "model.compile(optimizer='adam', loss='binary_crossentropy', metrics=['accuracy'])"
      ],
      "execution_count": 42,
      "outputs": [
        {
          "output_type": "stream",
          "name": "stdout",
          "text": [
            "Model: \"model_2\"\n",
            "_________________________________________________________________\n",
            " Layer (type)                Output Shape              Param #   \n",
            "=================================================================\n",
            " input_6 (InputLayer)        [(None, 27)]              0         \n",
            "                                                                 \n",
            " embedding_5 (Embedding)     (None, 27, 30)            7743240   \n",
            "                                                                 \n",
            " lstm (LSTM)                 (None, 64)                24320     \n",
            "                                                                 \n",
            " dense_5 (Dense)             (None, 64)                4160      \n",
            "                                                                 \n",
            " dropout_1 (Dropout)         (None, 64)                0         \n",
            "                                                                 \n",
            " dense_6 (Dense)             (None, 1)                 65        \n",
            "                                                                 \n",
            "=================================================================\n",
            "Total params: 7,771,785\n",
            "Trainable params: 7,771,785\n",
            "Non-trainable params: 0\n",
            "_________________________________________________________________\n"
          ]
        }
      ]
    },
    {
      "cell_type": "code",
      "metadata": {
        "colab": {
          "base_uri": "https://localhost:8080/",
          "height": 444
        },
        "id": "0B6uXihjEvOW",
        "outputId": "98379596-f135-4261-c539-e95ef8b915e2"
      },
      "source": [
        "callback = tf.keras.callbacks.EarlyStopping(monitor='val_accuracy', patience=3, restore_best_weights=True)\n",
        "\n",
        "history = model.fit(X_train, y_train, batch_size=256, epochs=15, \n",
        "          validation_data=(X_valid, y_val), callbacks=[callback], verbose=True)\n",
        "\n",
        "plot_history(history)"
      ],
      "execution_count": 43,
      "outputs": [
        {
          "output_type": "stream",
          "name": "stdout",
          "text": [
            "Epoch 1/15\n",
            "709/709 [==============================] - 78s 107ms/step - loss: 0.5327 - accuracy: 0.7257 - val_loss: 0.5015 - val_accuracy: 0.7516\n",
            "Epoch 2/15\n",
            "709/709 [==============================] - 77s 109ms/step - loss: 0.2908 - accuracy: 0.8802 - val_loss: 0.5908 - val_accuracy: 0.7375\n",
            "Epoch 3/15\n",
            "709/709 [==============================] - 76s 108ms/step - loss: 0.1425 - accuracy: 0.9451 - val_loss: 0.7555 - val_accuracy: 0.7297\n",
            "Epoch 4/15\n",
            "709/709 [==============================] - 76s 108ms/step - loss: 0.0867 - accuracy: 0.9672 - val_loss: 0.9612 - val_accuracy: 0.7233\n"
          ]
        },
        {
          "output_type": "display_data",
          "data": {
            "image/png": "[encoded data removed]",
            "text/plain": [
              "<Figure size 1080x288 with 2 Axes>"
            ]
          },
          "metadata": {
            "needs_background": "light"
          }
        }
      ]
    },
    {
      "cell_type": "code",
      "metadata": {
        "colab": {
          "base_uri": "https://localhost:8080/"
        },
        "id": "_HDadlkhExyG",
        "outputId": "edcb2d12-b713-47c7-fdea-3028aea949c4"
      },
      "source": [
        "# Accuracy is little higher than was in CNN-1 architecture, but longer time to train\n",
        "model.evaluate(X_valid, y_val)"
      ],
      "execution_count": 44,
      "outputs": [
        {
          "output_type": "stream",
          "name": "stdout",
          "text": [
            "709/709 [==============================] - 4s 5ms/step - loss: 0.5015 - accuracy: 0.7516\n"
          ]
        },
        {
          "output_type": "execute_result",
          "data": {
            "text/plain": [
              "[0.5014968514442444, 0.7516201734542847]"
            ]
          },
          "metadata": {},
          "execution_count": 44
        }
      ]
    },
    {
      "cell_type": "markdown",
      "metadata": {
        "id": "fVPRqLDxHdtn"
      },
      "source": [
        "LSTM with 3 LSTM layers"
      ]
    },
    {
      "cell_type": "code",
      "metadata": {
        "id": "uXbMDzTJGDGw"
      },
      "source": [
        "inputs = Input(shape=(X_train.shape[1],))\n",
        "\n",
        "x =     Embedding(input_dim=word_count,\n",
        "              input_length=training_length,\n",
        "              output_dim=30,\n",
        "              trainable=True,\n",
        "              mask_zero=True)(inputs)\n",
        "\n",
        "lstm = LSTM(30, recurrent_dropout=0.2)(x)\n",
        "x = add([x, lstm])\n",
        "\n",
        "lstm = LSTM(30, recurrent_dropout=0.2)(x)\n",
        "x = add([x, lstm])\n",
        "\n",
        "lstm = LSTM(30, recurrent_dropout=0.2)(x)\n",
        "x = add([x, lstm])\n",
        "x = Flatten()(x)\n",
        "\n",
        "x = Dense(64, activation='relu')(x)\n",
        "x = Dropout(0.5)(x)\n",
        "x = Dense(1, activation='sigmoid')(x)"
      ],
      "execution_count": 48,
      "outputs": []
    },
    {
      "cell_type": "code",
      "metadata": {
        "colab": {
          "base_uri": "https://localhost:8080/"
        },
        "id": "Xjk5OHD4IS1i",
        "outputId": "e1aef150-c16c-4f40-bf63-989835b492a0"
      },
      "source": [
        "model = Model(inputs=inputs, outputs=x)\n",
        "model.summary()\n",
        "model.compile(optimizer='adam', loss='binary_crossentropy', metrics=['accuracy'])"
      ],
      "execution_count": 49,
      "outputs": [
        {
          "output_type": "stream",
          "name": "stdout",
          "text": [
            "Model: \"model_3\"\n",
            "__________________________________________________________________________________________________\n",
            " Layer (type)                   Output Shape         Param #     Connected to                     \n",
            "==================================================================================================\n",
            " input_9 (InputLayer)           [(None, 27)]         0           []                               \n",
            "                                                                                                  \n",
            " embedding_8 (Embedding)        (None, 27, 30)       7743240     ['input_9[0][0]']                \n",
            "                                                                                                  \n",
            " lstm_3 (LSTM)                  (None, 30)           7320        ['embedding_8[0][0]']            \n",
            "                                                                                                  \n",
            " add_1 (Add)                    (None, 27, 30)       0           ['embedding_8[0][0]',            \n",
            "                                                                  'lstm_3[0][0]']                 \n",
            "                                                                                                  \n",
            " lstm_4 (LSTM)                  (None, 30)           7320        ['add_1[0][0]']                  \n",
            "                                                                                                  \n",
            " add_2 (Add)                    (None, 27, 30)       0           ['add_1[0][0]',                  \n",
            "                                                                  'lstm_4[0][0]']                 \n",
            "                                                                                                  \n",
            " lstm_5 (LSTM)                  (None, 30)           7320        ['add_2[0][0]']                  \n",
            "                                                                                                  \n",
            " add_3 (Add)                    (None, 27, 30)       0           ['add_2[0][0]',                  \n",
            "                                                                  'lstm_5[0][0]']                 \n",
            "                                                                                                  \n",
            " flatten_1 (Flatten)            (None, 810)          0           ['add_3[0][0]']                  \n",
            "                                                                                                  \n",
            " dense_7 (Dense)                (None, 64)           51904       ['flatten_1[0][0]']              \n",
            "                                                                                                  \n",
            " dropout_2 (Dropout)            (None, 64)           0           ['dense_7[0][0]']                \n",
            "                                                                                                  \n",
            " dense_8 (Dense)                (None, 1)            65          ['dropout_2[0][0]']              \n",
            "                                                                                                  \n",
            "==================================================================================================\n",
            "Total params: 7,817,169\n",
            "Trainable params: 7,817,169\n",
            "Non-trainable params: 0\n",
            "__________________________________________________________________________________________________\n"
          ]
        }
      ]
    },
    {
      "cell_type": "code",
      "metadata": {
        "colab": {
          "base_uri": "https://localhost:8080/",
          "height": 444
        },
        "id": "qoYaq5qPIo00",
        "outputId": "c3010dd4-606a-492f-bb0f-6ceb052270aa"
      },
      "source": [
        "callback = tf.keras.callbacks.EarlyStopping(monitor='val_accuracy', patience=3, restore_best_weights=True)\n",
        "\n",
        "history = model.fit(X_train, y_train, batch_size=256, epochs=15, \n",
        "          validation_data=(X_valid, y_val), callbacks=[callback], verbose=True)\n",
        "\n",
        "plot_history(history)"
      ],
      "execution_count": 50,
      "outputs": [
        {
          "output_type": "stream",
          "name": "stdout",
          "text": [
            "Epoch 1/15\n",
            "709/709 [==============================] - 119s 159ms/step - loss: 0.5284 - accuracy: 0.7280 - val_loss: 0.5079 - val_accuracy: 0.7472\n",
            "Epoch 2/15\n",
            "709/709 [==============================] - 118s 166ms/step - loss: 0.2696 - accuracy: 0.8899 - val_loss: 0.6191 - val_accuracy: 0.7409\n",
            "Epoch 3/15\n",
            "709/709 [==============================] - 116s 164ms/step - loss: 0.1166 - accuracy: 0.9561 - val_loss: 0.7492 - val_accuracy: 0.7279\n",
            "Epoch 4/15\n",
            "709/709 [==============================] - 116s 164ms/step - loss: 0.0671 - accuracy: 0.9748 - val_loss: 0.9692 - val_accuracy: 0.7227\n"
          ]
        },
        {
          "output_type": "display_data",
          "data": {
            "image/png": "[encoded data removed]",
            "text/plain": [
              "<Figure size 1080x288 with 2 Axes>"
            ]
          },
          "metadata": {
            "needs_background": "light"
          }
        }
      ]
    },
    {
      "cell_type": "code",
      "metadata": {
        "colab": {
          "base_uri": "https://localhost:8080/"
        },
        "id": "Lul6Kd1IIraP",
        "outputId": "6708135a-f2f8-4703-a440-03bb49530059"
      },
      "source": [
        "# Accuracy is similar to CNN-1, much longer time for model training\n",
        "model.evaluate(X_valid, y_val)"
      ],
      "execution_count": 51,
      "outputs": [
        {
          "output_type": "stream",
          "name": "stdout",
          "text": [
            "709/709 [==============================] - 8s 12ms/step - loss: 0.5079 - accuracy: 0.7472\n"
          ]
        },
        {
          "output_type": "execute_result",
          "data": {
            "text/plain": [
              "[0.5078989267349243, 0.7472115755081177]"
            ]
          },
          "metadata": {},
          "execution_count": 51
        }
      ]
    },
    {
      "cell_type": "markdown",
      "metadata": {
        "id": "nS081y4GOAz6"
      },
      "source": [
        "LSTM + CNN Model (combination of different layers types per better accuracy)"
      ]
    },
    {
      "cell_type": "code",
      "metadata": {
        "id": "EGhRncsUOBj8"
      },
      "source": [
        "inputs = Input(shape=(X_train.shape[1],))\n",
        "\n",
        "x =     Embedding(input_dim=word_count,\n",
        "              input_length=training_length,\n",
        "              output_dim=30,\n",
        "              trainable=True,\n",
        "              mask_zero=True)(inputs)\n",
        "\n",
        "x = LSTM(64, return_sequences=True)(x)\n",
        "x = (Conv1D(64, kernel_size=3, activation='relu', padding=\"same\"))(x)\n",
        "x = GlobalMaxPool1D()(x)\n",
        "x = Flatten()(x)\n",
        "\n",
        "x = Dense(64, activation='relu')(x)\n",
        "x = Dropout(0.5)(x)\n",
        "x = Dense(1, activation='sigmoid')(x)"
      ],
      "execution_count": 66,
      "outputs": []
    },
    {
      "cell_type": "code",
      "metadata": {
        "colab": {
          "base_uri": "https://localhost:8080/"
        },
        "id": "7cKfEegQOBmx",
        "outputId": "c6e410fb-279c-4eba-b5b0-669c8fe40950"
      },
      "source": [
        "model = Model(inputs=inputs, outputs=x)\n",
        "model.summary()\n",
        "model.compile(optimizer='adam', loss='binary_crossentropy', metrics=['accuracy'])"
      ],
      "execution_count": 67,
      "outputs": [
        {
          "output_type": "stream",
          "name": "stdout",
          "text": [
            "Model: \"model_4\"\n",
            "_________________________________________________________________\n",
            " Layer (type)                Output Shape              Param #   \n",
            "=================================================================\n",
            " input_24 (InputLayer)       [(None, 27)]              0         \n",
            "                                                                 \n",
            " embedding_23 (Embedding)    (None, 27, 30)            7743240   \n",
            "                                                                 \n",
            " lstm_17 (LSTM)              (None, 27, 64)            24320     \n",
            "                                                                 \n",
            " conv1d_19 (Conv1D)          (None, 27, 64)            12352     \n",
            "                                                                 \n",
            " global_max_pooling1d_11 (Gl  (None, 64)               0         \n",
            " obalMaxPooling1D)                                               \n",
            "                                                                 \n",
            " flatten_11 (Flatten)        (None, 64)                0         \n",
            "                                                                 \n",
            " dense_11 (Dense)            (None, 64)                4160      \n",
            "                                                                 \n",
            " dropout_4 (Dropout)         (None, 64)                0         \n",
            "                                                                 \n",
            " dense_12 (Dense)            (None, 1)                 65        \n",
            "                                                                 \n",
            "=================================================================\n",
            "Total params: 7,784,137\n",
            "Trainable params: 7,784,137\n",
            "Non-trainable params: 0\n",
            "_________________________________________________________________\n"
          ]
        }
      ]
    },
    {
      "cell_type": "code",
      "metadata": {
        "colab": {
          "base_uri": "https://localhost:8080/",
          "height": 444
        },
        "id": "Rcq09j81MI0z",
        "outputId": "9a430d7b-aa56-494b-9692-94838faa38a2"
      },
      "source": [
        "callback = tf.keras.callbacks.EarlyStopping(monitor='val_accuracy', patience=3, restore_best_weights=True)\n",
        "\n",
        "history = model.fit(X_train, y_train, batch_size=256, epochs=15, \n",
        "          validation_data=(X_valid, y_val), callbacks=[callback], verbose=True)\n",
        "\n",
        "plot_history(history)"
      ],
      "execution_count": 68,
      "outputs": [
        {
          "output_type": "stream",
          "name": "stdout",
          "text": [
            "Epoch 1/15\n",
            "709/709 [==============================] - 83s 113ms/step - loss: 0.5321 - accuracy: 0.7236 - val_loss: 0.5039 - val_accuracy: 0.7486\n",
            "Epoch 2/15\n",
            "709/709 [==============================] - 78s 110ms/step - loss: 0.2796 - accuracy: 0.8859 - val_loss: 0.6130 - val_accuracy: 0.7384\n",
            "Epoch 3/15\n",
            "709/709 [==============================] - 78s 110ms/step - loss: 0.1216 - accuracy: 0.9551 - val_loss: 0.7993 - val_accuracy: 0.7337\n",
            "Epoch 4/15\n",
            "709/709 [==============================] - 78s 110ms/step - loss: 0.0671 - accuracy: 0.9760 - val_loss: 1.0283 - val_accuracy: 0.7255\n"
          ]
        },
        {
          "output_type": "display_data",
          "data": {
            "image/png": "[encoded data removed]",
            "text/plain": [
              "<Figure size 1080x288 with 2 Axes>"
            ]
          },
          "metadata": {
            "needs_background": "light"
          }
        }
      ]
    },
    {
      "cell_type": "code",
      "metadata": {
        "colab": {
          "base_uri": "https://localhost:8080/"
        },
        "id": "nj0_mQbTOBpl",
        "outputId": "7b5e3ad6-0ae9-4467-f8de-4c5744513732"
      },
      "source": [
        "# Accuracy is similar to CNN-1, longer time for model training\n",
        "model.evaluate(X_valid, y_val)"
      ],
      "execution_count": 69,
      "outputs": [
        {
          "output_type": "stream",
          "name": "stdout",
          "text": [
            "709/709 [==============================] - 5s 7ms/step - loss: 0.5039 - accuracy: 0.7486\n"
          ]
        },
        {
          "output_type": "execute_result",
          "data": {
            "text/plain": [
              "[0.5038946270942688, 0.7485782504081726]"
            ]
          },
          "metadata": {},
          "execution_count": 69
        }
      ]
    },
    {
      "cell_type": "code",
      "metadata": {
        "id": "wAtf2xGxOBsb"
      },
      "source": [
        "# Same without MaxPool layer\n",
        "inputs = Input(shape=(X_train.shape[1],))\n",
        "\n",
        "x =     Embedding(input_dim=word_count,\n",
        "              input_length=training_length,\n",
        "              output_dim=30,\n",
        "              trainable=True,\n",
        "              mask_zero=True)(inputs)\n",
        "\n",
        "x = LSTM(64, return_sequences=True)(x)\n",
        "x = (Conv1D(64, kernel_size=3, activation='relu', padding=\"same\"))(x)\n",
        "# x = GlobalMaxPool1D()(x)\n",
        "x = Flatten()(x)\n",
        "\n",
        "x = Dense(64, activation='relu')(x)\n",
        "x = Dropout(0.5)(x)\n",
        "x = Dense(1, activation='sigmoid')(x)"
      ],
      "execution_count": 73,
      "outputs": []
    },
    {
      "cell_type": "code",
      "metadata": {
        "colab": {
          "base_uri": "https://localhost:8080/"
        },
        "id": "C7vjnFuLOBva",
        "outputId": "a57cc17f-1cfb-4612-81fe-8373cb3e9152"
      },
      "source": [
        "model = Model(inputs=inputs, outputs=x)\n",
        "model.summary()\n",
        "model.compile(optimizer='adam', loss='binary_crossentropy', metrics=['accuracy'])"
      ],
      "execution_count": 74,
      "outputs": [
        {
          "output_type": "stream",
          "name": "stdout",
          "text": [
            "Model: \"model_5\"\n",
            "_________________________________________________________________\n",
            " Layer (type)                Output Shape              Param #   \n",
            "=================================================================\n",
            " input_28 (InputLayer)       [(None, 27)]              0         \n",
            "                                                                 \n",
            " embedding_27 (Embedding)    (None, 27, 30)            7743240   \n",
            "                                                                 \n",
            " lstm_21 (LSTM)              (None, 27, 64)            24320     \n",
            "                                                                 \n",
            " conv1d_23 (Conv1D)          (None, 27, 64)            12352     \n",
            "                                                                 \n",
            " flatten_15 (Flatten)        (None, 1728)              0         \n",
            "                                                                 \n",
            " dense_19 (Dense)            (None, 64)                110656    \n",
            "                                                                 \n",
            " dropout_8 (Dropout)         (None, 64)                0         \n",
            "                                                                 \n",
            " dense_20 (Dense)            (None, 1)                 65        \n",
            "                                                                 \n",
            "=================================================================\n",
            "Total params: 7,890,633\n",
            "Trainable params: 7,890,633\n",
            "Non-trainable params: 0\n",
            "_________________________________________________________________\n"
          ]
        }
      ]
    },
    {
      "cell_type": "code",
      "metadata": {
        "colab": {
          "base_uri": "https://localhost:8080/",
          "height": 444
        },
        "id": "d4rLKhv_U22M",
        "outputId": "fee04b83-84a1-482d-83fa-3b30ea9ee98d"
      },
      "source": [
        "callback = tf.keras.callbacks.EarlyStopping(monitor='val_accuracy', patience=3, restore_best_weights=True)\n",
        "\n",
        "history = model.fit(X_train, y_train, batch_size=256, epochs=15, \n",
        "          validation_data=(X_valid, y_val), callbacks=[callback], verbose=True)\n",
        "\n",
        "plot_history(history)"
      ],
      "execution_count": 75,
      "outputs": [
        {
          "output_type": "stream",
          "name": "stdout",
          "text": [
            "Epoch 1/15\n",
            "709/709 [==============================] - 84s 113ms/step - loss: 0.5343 - accuracy: 0.7230 - val_loss: 0.5126 - val_accuracy: 0.7493\n",
            "Epoch 2/15\n",
            "709/709 [==============================] - 80s 112ms/step - loss: 0.2856 - accuracy: 0.8827 - val_loss: 0.5954 - val_accuracy: 0.7407\n",
            "Epoch 3/15\n",
            "709/709 [==============================] - 79s 112ms/step - loss: 0.1308 - accuracy: 0.9508 - val_loss: 0.7733 - val_accuracy: 0.7317\n",
            "Epoch 4/15\n",
            "709/709 [==============================] - 79s 112ms/step - loss: 0.0721 - accuracy: 0.9736 - val_loss: 0.9641 - val_accuracy: 0.7272\n"
          ]
        },
        {
          "output_type": "display_data",
          "data": {
            "image/png": "[encoded data removed]",
            "text/plain": [
              "<Figure size 1080x288 with 2 Axes>"
            ]
          },
          "metadata": {
            "needs_background": "light"
          }
        }
      ]
    },
    {
      "cell_type": "code",
      "metadata": {
        "colab": {
          "base_uri": "https://localhost:8080/"
        },
        "id": "ZHr6EBsXU247",
        "outputId": "a5589817-6283-490d-f025-ae9e38dee8bd"
      },
      "source": [
        "# No visible change in accuracy value\n",
        "model.evaluate(X_valid, y_val)"
      ],
      "execution_count": 76,
      "outputs": [
        {
          "output_type": "stream",
          "name": "stdout",
          "text": [
            "709/709 [==============================] - 5s 7ms/step - loss: 0.5126 - accuracy: 0.7493\n"
          ]
        },
        {
          "output_type": "execute_result",
          "data": {
            "text/plain": [
              "[0.5126218199729919, 0.7492836117744446]"
            ]
          },
          "metadata": {},
          "execution_count": 76
        }
      ]
    },
    {
      "cell_type": "markdown",
      "metadata": {
        "id": "UW91GXSNNZM4"
      },
      "source": [
        "GRU-CNN hybrid model (combines the gated recurrent unit (GRU) and CNN)\n",
        "\n",
        "\n",
        "the feature vector of time sequence data is extracted by the GRU module, and the feature vector of other high-dimensional data is extracted by the CNN module."
      ]
    },
    {
      "cell_type": "code",
      "metadata": {
        "id": "cAc1KM5rMI3f"
      },
      "source": [
        "inputs = Input(shape=(X_train.shape[1],))\n",
        "\n",
        "x =     Embedding(input_dim=word_count,\n",
        "              input_length=training_length,\n",
        "              output_dim=30,\n",
        "              trainable=True,\n",
        "              mask_zero=True)(inputs)\n",
        "\n",
        "x = GRU(64, return_sequences=True)(x)\n",
        "x = (Conv1D(64, kernel_size=3, activation='relu', padding=\"same\"))(x)\n",
        "# x = GlobalMaxPool1D()(x)\n",
        "x = Flatten()(x)\n",
        "\n",
        "x = Dense(64, activation='relu')(x)\n",
        "x = Dropout(0.5)(x)\n",
        "x = Dense(1, activation='sigmoid')(x)"
      ],
      "execution_count": 81,
      "outputs": []
    },
    {
      "cell_type": "code",
      "metadata": {
        "colab": {
          "base_uri": "https://localhost:8080/"
        },
        "id": "3KeSxLIYMI6h",
        "outputId": "b13dcc21-52bd-44f1-f583-4f8a24fe22f2"
      },
      "source": [
        "model = Model(inputs=inputs, outputs=x)\n",
        "model.summary()\n",
        "model.compile(optimizer='adam', loss='binary_crossentropy', metrics=['accuracy'])"
      ],
      "execution_count": 82,
      "outputs": [
        {
          "output_type": "stream",
          "name": "stdout",
          "text": [
            "Model: \"model_6\"\n",
            "_________________________________________________________________\n",
            " Layer (type)                Output Shape              Param #   \n",
            "=================================================================\n",
            " input_32 (InputLayer)       [(None, 27)]              0         \n",
            "                                                                 \n",
            " embedding_31 (Embedding)    (None, 27, 30)            7743240   \n",
            "                                                                 \n",
            " gru (GRU)                   (None, 27, 64)            18432     \n",
            "                                                                 \n",
            " conv1d_27 (Conv1D)          (None, 27, 64)            12352     \n",
            "                                                                 \n",
            " flatten_16 (Flatten)        (None, 1728)              0         \n",
            "                                                                 \n",
            " dense_21 (Dense)            (None, 64)                110656    \n",
            "                                                                 \n",
            " dropout_9 (Dropout)         (None, 64)                0         \n",
            "                                                                 \n",
            " dense_22 (Dense)            (None, 1)                 65        \n",
            "                                                                 \n",
            "=================================================================\n",
            "Total params: 7,884,745\n",
            "Trainable params: 7,884,745\n",
            "Non-trainable params: 0\n",
            "_________________________________________________________________\n"
          ]
        }
      ]
    },
    {
      "cell_type": "code",
      "metadata": {
        "colab": {
          "base_uri": "https://localhost:8080/",
          "height": 444
        },
        "id": "EEgPb1FkMI9X",
        "outputId": "0a72d6bc-2f3d-40e6-cc84-102fbf3f22b9"
      },
      "source": [
        "callback = tf.keras.callbacks.EarlyStopping(monitor='val_accuracy', patience=3, restore_best_weights=True)\n",
        "\n",
        "history = model.fit(X_train, y_train, batch_size=256, epochs=15, \n",
        "          validation_data=(X_valid, y_val), callbacks=[callback], verbose=True)\n",
        "\n",
        "plot_history(history)"
      ],
      "execution_count": 83,
      "outputs": [
        {
          "output_type": "stream",
          "name": "stdout",
          "text": [
            "Epoch 1/15\n",
            "709/709 [==============================] - 76s 102ms/step - loss: 0.5301 - accuracy: 0.7271 - val_loss: 0.4971 - val_accuracy: 0.7527\n",
            "Epoch 2/15\n",
            "709/709 [==============================] - 71s 100ms/step - loss: 0.2789 - accuracy: 0.8848 - val_loss: 0.6152 - val_accuracy: 0.7407\n",
            "Epoch 3/15\n",
            "709/709 [==============================] - 71s 100ms/step - loss: 0.1197 - accuracy: 0.9555 - val_loss: 0.8165 - val_accuracy: 0.7340\n",
            "Epoch 4/15\n",
            "709/709 [==============================] - 71s 100ms/step - loss: 0.0624 - accuracy: 0.9772 - val_loss: 1.0943 - val_accuracy: 0.7263\n"
          ]
        },
        {
          "output_type": "display_data",
          "data": {
            "image/png": "[encoded data removed]",
            "text/plain": [
              "<Figure size 1080x288 with 2 Axes>"
            ]
          },
          "metadata": {
            "needs_background": "light"
          }
        }
      ]
    },
    {
      "cell_type": "code",
      "metadata": {
        "colab": {
          "base_uri": "https://localhost:8080/"
        },
        "id": "XEZKVEzaMJAx",
        "outputId": "f20aa22a-d928-40a0-8b67-04f4ddc2bb69"
      },
      "source": [
        "# A bit higher accuracy vs LSTM hybrid\n",
        "model.evaluate(X_valid, y_val)"
      ],
      "execution_count": 84,
      "outputs": [
        {
          "output_type": "stream",
          "name": "stdout",
          "text": [
            "709/709 [==============================] - 5s 7ms/step - loss: 0.4971 - accuracy: 0.7527\n"
          ]
        },
        {
          "output_type": "execute_result",
          "data": {
            "text/plain": [
              "[0.4971150755882263, 0.7527223229408264]"
            ]
          },
          "metadata": {},
          "execution_count": 84
        }
      ]
    },
    {
      "cell_type": "markdown",
      "metadata": {
        "id": "BWinTZhyaVBY"
      },
      "source": [
        "Accuracy rate results:\n",
        "\n",
        "1. GRU-CNN \n",
        "2. LSTM with 1 LSTM layer\n",
        "3. LSTM + CNN without MaxPool layer"
      ]
    },
    {
      "cell_type": "code",
      "metadata": {
        "id": "SccOt-WKbJdR"
      },
      "source": [
        ""
      ],
      "execution_count": null,
      "outputs": []
    }
  ]
}