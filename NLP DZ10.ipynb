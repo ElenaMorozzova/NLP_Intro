{
  "nbformat": 4,
  "nbformat_minor": 0,
  "metadata": {
    "colab": {
      "name": "NLP_DZ10.ipynb",
      "provenance": [],
      "collapsed_sections": [],
      "authorship_tag": "ABX9TyP14pGCbdiBcrGJVH372X0E"
    },
    "kernelspec": {
      "name": "python3",
      "display_name": "Python 3"
    },
    "language_info": {
      "name": "python"
    },
    "accelerator": "GPU"
  },
  "cells": [
    {
      "cell_type": "markdown",
      "metadata": {
        "id": "3GnSG8se3z1Q"
      },
      "source": [
        "**Neural machine translation**"
      ]
    },
    {
      "cell_type": "code",
      "metadata": {
        "id": "4CU8UNltv76e"
      },
      "source": [
        "import tensorflow as tf\n",
        "\n",
        "import matplotlib.pyplot as plt\n",
        "import matplotlib.ticker as ticker\n",
        "from sklearn.model_selection import train_test_split\n",
        "\n",
        "import unicodedata\n",
        "import re\n",
        "import numpy as np\n",
        "import os\n",
        "import io\n",
        "import time"
      ],
      "execution_count": null,
      "outputs": []
    },
    {
      "cell_type": "markdown",
      "metadata": {
        "id": "U19MFUYU3z57"
      },
      "source": [
        "**Download and prepare dataset**\n",
        "\n",
        "We'll use a language dataset provided by http://www.manythings.org/anki/"
      ]
    },
    {
      "cell_type": "code",
      "metadata": {
        "colab": {
          "base_uri": "https://localhost:8080/"
        },
        "id": "IzKbmPtb39SS",
        "outputId": "ca163624-ede0-4d5a-84c0-8382c0ba38cb"
      },
      "source": [
        "!wget http://www.manythings.org/anki/rus-eng.zip"
      ],
      "execution_count": null,
      "outputs": [
        {
          "output_type": "stream",
          "name": "stdout",
          "text": [
            "--2021-11-20 18:03:30--  http://www.manythings.org/anki/rus-eng.zip\n",
            "Resolving www.manythings.org (www.manythings.org)... 104.21.92.44, 172.67.186.54, 2606:4700:3033::ac43:ba36, ...\n",
            "Connecting to www.manythings.org (www.manythings.org)|104.21.92.44|:80... connected.\n",
            "HTTP request sent, awaiting response... 200 OK\n",
            "Length: 14385451 (14M) [application/zip]\n",
            "Saving to: ‘rus-eng.zip.1’\n",
            "\n",
            "rus-eng.zip.1       100%[===================>]  13.72M  42.4MB/s    in 0.3s    \n",
            "\n",
            "2021-11-20 18:03:30 (42.4 MB/s) - ‘rus-eng.zip.1’ saved [14385451/14385451]\n",
            "\n"
          ]
        }
      ]
    },
    {
      "cell_type": "code",
      "metadata": {
        "colab": {
          "base_uri": "https://localhost:8080/"
        },
        "id": "Qx3hqVvb391y",
        "outputId": "926f4e71-08a8-45ec-ecdc-5d5954d4b873"
      },
      "source": [
        "!mkdir rus-eng\n",
        "!unzip rus-eng.zip -d rus-eng/"
      ],
      "execution_count": null,
      "outputs": [
        {
          "output_type": "stream",
          "name": "stdout",
          "text": [
            "Archive:  rus-eng.zip\n",
            "  inflating: rus-eng/rus.txt         \n",
            "  inflating: rus-eng/_about.txt      \n"
          ]
        }
      ]
    },
    {
      "cell_type": "code",
      "metadata": {
        "colab": {
          "base_uri": "https://localhost:8080/"
        },
        "id": "HaPH0vh73943",
        "outputId": "8cb1ba1e-dd3d-40b7-a27f-0cf3e000d479"
      },
      "source": [
        "!ls /content/rus-eng/ -lah"
      ],
      "execution_count": null,
      "outputs": [
        {
          "output_type": "stream",
          "name": "stdout",
          "text": [
            "total 69M\n",
            "drwxr-xr-x 2 root root 4.0K Nov 20 18:03 .\n",
            "drwxr-xr-x 1 root root 4.0K Nov 20 18:03 ..\n",
            "-rw-r--r-- 1 root root 1.5K Jul 14 10:16 _about.txt\n",
            "-rw-r--r-- 1 root root  69M Jul 14 10:16 rus.txt\n"
          ]
        }
      ]
    },
    {
      "cell_type": "code",
      "metadata": {
        "id": "1BKoKvH7397w"
      },
      "source": [
        "# Download the file\n",
        "path_to_file = \"/content/rus-eng/rus.txt\""
      ],
      "execution_count": null,
      "outputs": []
    },
    {
      "cell_type": "code",
      "metadata": {
        "id": "wPva3F7I78Ch"
      },
      "source": [
        "def preprocess_sentence(w):\n",
        "  w = w.lower().strip()\n",
        "\n",
        "  # creating a space between a word and the punctuation following it\n",
        "  # eg: \"he is a boy.\" => \"he is a boy .\"\n",
        "  # Reference:- https://stackoverflow.com/questions/3645931/python-padding-punctuation-with-white-spaces-keeping-punctuation\n",
        "  w = re.sub(r\"([?.!,])\", r\" \\1 \", w)\n",
        "  w = re.sub(r'[\" \"]+', \" \", w)\n",
        "\n",
        "  # replacing everything with space except (a-z, A-Z, \".\", \"?\", \"!\", \",\")\n",
        "  w = re.sub(r\"[^a-zA-Zа-яА-Я?.!,']+\", \" \", w)\n",
        "\n",
        "  w = w.strip()\n",
        "\n",
        "  # adding a start and an end token to the sentence\n",
        "  # so that the model know when to start and stop predicting.\n",
        "  w = '<start> ' + w + ' <end>'\n",
        "  return w"
      ],
      "execution_count": null,
      "outputs": []
    },
    {
      "cell_type": "code",
      "metadata": {
        "colab": {
          "base_uri": "https://localhost:8080/",
          "height": 35
        },
        "id": "l-j68T3j78GL",
        "outputId": "f22d79d3-f658-4130-e5d4-31d18017c44a"
      },
      "source": [
        "preprocess_sentence(\"I will go.\")"
      ],
      "execution_count": null,
      "outputs": [
        {
          "output_type": "execute_result",
          "data": {
            "application/vnd.google.colaboratory.intrinsic+json": {
              "type": "string"
            },
            "text/plain": [
              "'<start> i will go . <end>'"
            ]
          },
          "metadata": {},
          "execution_count": 8
        }
      ]
    },
    {
      "cell_type": "code",
      "metadata": {
        "id": "GRnEG4MC78JV"
      },
      "source": [
        "# 1. Remove the accents\n",
        "# 2. Clean the sentences\n",
        "# 3. Return word pairs in the format: [ENG, RUS]\n",
        "def create_dataset(path, num_examples):\n",
        "  lines = io.open(path, encoding='UTF-8').read().strip().split('\\n')\n",
        "\n",
        "  word_pairs = [[preprocess_sentence(w) for w in l.split('\\t')[:2]]  for l in lines[:num_examples]]\n",
        "\n",
        "  return zip(*word_pairs)"
      ],
      "execution_count": null,
      "outputs": []
    },
    {
      "cell_type": "code",
      "metadata": {
        "colab": {
          "base_uri": "https://localhost:8080/"
        },
        "id": "A3inISav78Mm",
        "outputId": "a7d88fae-263c-4d35-f955-38d8941d3c0d"
      },
      "source": [
        "en, ru = create_dataset(path_to_file, None)\n",
        "print(en[0])\n",
        "print(ru[0])"
      ],
      "execution_count": null,
      "outputs": [
        {
          "output_type": "stream",
          "name": "stdout",
          "text": [
            "<start> go . <end>\n",
            "<start> марш ! <end>\n"
          ]
        }
      ]
    },
    {
      "cell_type": "code",
      "metadata": {
        "id": "Ge8FPN1d8yea"
      },
      "source": [
        "def tokenize(lang):\n",
        "  lang_tokenizer = tf.keras.preprocessing.text.Tokenizer(\n",
        "      filters='')\n",
        "  lang_tokenizer.fit_on_texts(lang)\n",
        "\n",
        "  tensor = lang_tokenizer.texts_to_sequences(lang)\n",
        "\n",
        "  tensor = tf.keras.preprocessing.sequence.pad_sequences(tensor,\n",
        "                                                         padding='post')\n",
        "\n",
        "  return tensor, lang_tokenizer"
      ],
      "execution_count": null,
      "outputs": []
    },
    {
      "cell_type": "code",
      "metadata": {
        "id": "_JDqymbT8yh_"
      },
      "source": [
        "def load_dataset(path, num_examples=None):\n",
        "  # creating cleaned input, output pairs\n",
        "  targ_lang, inp_lang = create_dataset(path, num_examples)\n",
        "\n",
        "  input_tensor, inp_lang_tokenizer = tokenize(inp_lang)\n",
        "  target_tensor, targ_lang_tokenizer = tokenize(targ_lang)\n",
        "\n",
        "  return input_tensor, target_tensor, inp_lang_tokenizer, targ_lang_tokenizer"
      ],
      "execution_count": null,
      "outputs": []
    },
    {
      "cell_type": "markdown",
      "metadata": {
        "id": "3Wo_L_bR9pte"
      },
      "source": [
        "Limit the size of the dataset to experiment faster (optional)"
      ]
    },
    {
      "cell_type": "code",
      "metadata": {
        "colab": {
          "base_uri": "https://localhost:8080/"
        },
        "id": "WB7rvfde9Wzl",
        "outputId": "f6cd08ba-6208-4e52-e26e-3d223877b627"
      },
      "source": [
        "len(en), len(ru)"
      ],
      "execution_count": null,
      "outputs": [
        {
          "output_type": "execute_result",
          "data": {
            "text/plain": [
              "(431097, 431097)"
            ]
          },
          "metadata": {},
          "execution_count": 13
        }
      ]
    },
    {
      "cell_type": "code",
      "metadata": {
        "id": "2K3ztXmT9W3r"
      },
      "source": [
        "# Try experimenting with the size of that dataset\n",
        "num_examples = 100000\n",
        "input_tensor, target_tensor, inp_lang, targ_lang = load_dataset(path_to_file, num_examples)\n",
        "\n",
        "# Calculate max_length of the target tensors\n",
        "max_length_targ, max_length_inp = target_tensor.shape[1], input_tensor.shape[1]"
      ],
      "execution_count": null,
      "outputs": []
    },
    {
      "cell_type": "code",
      "metadata": {
        "colab": {
          "base_uri": "https://localhost:8080/"
        },
        "id": "DdXe2Mc89W7T",
        "outputId": "d3fe4765-c2c7-419f-f449-e2ec25d7f9d0"
      },
      "source": [
        "# Creating training and validation sets using an 80-20 split\n",
        "input_tensor_train, input_tensor_val, target_tensor_train, target_tensor_val = train_test_split(input_tensor, target_tensor, test_size=0.2)\n",
        "\n",
        "# Show length\n",
        "print(len(input_tensor_train), len(target_tensor_train), len(input_tensor_val), len(target_tensor_val))"
      ],
      "execution_count": null,
      "outputs": [
        {
          "output_type": "stream",
          "name": "stdout",
          "text": [
            "80000 80000 20000 20000\n"
          ]
        }
      ]
    },
    {
      "cell_type": "code",
      "metadata": {
        "id": "3yppvDS79XAR"
      },
      "source": [
        "def convert(lang, tensor):\n",
        "  for t in tensor:\n",
        "    if t!=0:\n",
        "      print (\"%d ----> %s\" % (t, lang.index_word[t]))"
      ],
      "execution_count": null,
      "outputs": []
    },
    {
      "cell_type": "code",
      "metadata": {
        "colab": {
          "base_uri": "https://localhost:8080/"
        },
        "id": "KVS-x7uf8ylO",
        "outputId": "14a4b48d-c4ac-4b69-dd18-9054d6d945d5"
      },
      "source": [
        "print (\"Input Language; index to word mapping\")\n",
        "convert(inp_lang, input_tensor_train[2])\n",
        "print ()\n",
        "print (\"Target Language; index to word mapping\")\n",
        "convert(targ_lang, target_tensor_train[2])"
      ],
      "execution_count": null,
      "outputs": [
        {
          "output_type": "stream",
          "name": "stdout",
          "text": [
            "Input Language; index to word mapping\n",
            "1 ----> <start>\n",
            "4 ----> я\n",
            "21 ----> с\n",
            "152 ----> вами\n",
            "5941 ----> свяжусь\n",
            "3 ----> .\n",
            "2 ----> <end>\n",
            "\n",
            "Target Language; index to word mapping\n",
            "1 ----> <start>\n",
            "38 ----> i'll\n",
            "900 ----> contact\n",
            "7 ----> you\n",
            "3 ----> .\n",
            "2 ----> <end>\n"
          ]
        }
      ]
    },
    {
      "cell_type": "markdown",
      "metadata": {
        "id": "-TavDcY--K8e"
      },
      "source": [
        "**Create a tf.data dataset**"
      ]
    },
    {
      "cell_type": "code",
      "metadata": {
        "id": "ZG4gd2Eo8yyf"
      },
      "source": [
        "BUFFER_SIZE = len(input_tensor_train)\n",
        "BATCH_SIZE = 64\n",
        "steps_per_epoch = len(input_tensor_train)//BATCH_SIZE\n",
        "embedding_dim = 300\n",
        "units = 1024\n",
        "vocab_inp_size = len(inp_lang.word_index)+1\n",
        "vocab_tar_size = len(targ_lang.word_index)+1\n",
        "\n",
        "dataset = tf.data.Dataset.from_tensor_slices((input_tensor_train, target_tensor_train)).shuffle(BUFFER_SIZE)\n",
        "dataset = dataset.batch(BATCH_SIZE, drop_remainder=True)"
      ],
      "execution_count": null,
      "outputs": []
    },
    {
      "cell_type": "code",
      "metadata": {
        "colab": {
          "base_uri": "https://localhost:8080/"
        },
        "id": "akAQfH4j-NXN",
        "outputId": "d98957cd-914d-4740-c008-7eef164a61e3"
      },
      "source": [
        "example_input_batch, example_target_batch = next(iter(dataset))\n",
        "example_input_batch.shape, example_target_batch.shape"
      ],
      "execution_count": null,
      "outputs": [
        {
          "output_type": "execute_result",
          "data": {
            "text/plain": [
              "(TensorShape([64, 15]), TensorShape([64, 11]))"
            ]
          },
          "metadata": {},
          "execution_count": 19
        }
      ]
    },
    {
      "cell_type": "code",
      "metadata": {
        "id": "RjlrEQmh-NgJ"
      },
      "source": [
        "class Encoder(tf.keras.Model):\n",
        "  def __init__(self, vocab_size, embedding_dim, enc_units, batch_sz):\n",
        "    super(Encoder, self).__init__()\n",
        "    self.batch_sz = batch_sz\n",
        "    self.enc_units = enc_units\n",
        "    self.embedding = tf.keras.layers.Embedding(vocab_size, embedding_dim)\n",
        "    self.gru = tf.keras.layers.GRU(self.enc_units,\n",
        "                                   return_sequences=False,\n",
        "                                   return_state=True,\n",
        "                                   recurrent_initializer='glorot_uniform')\n",
        "    \n",
        "\n",
        "  def call(self, x, hidden):\n",
        "    x = self.embedding(x)\n",
        "    output, state = self.gru(x, initial_state = hidden)\n",
        "    return state\n",
        "\n",
        "  def initialize_hidden_state(self):\n",
        "    return tf.zeros((self.batch_sz, self.enc_units))"
      ],
      "execution_count": null,
      "outputs": []
    },
    {
      "cell_type": "code",
      "metadata": {
        "colab": {
          "base_uri": "https://localhost:8080/"
        },
        "id": "iBwYebWR-NkN",
        "outputId": "8d369108-dbb7-4d80-a21e-6b185558cd75"
      },
      "source": [
        "encoder = Encoder(vocab_inp_size, embedding_dim, units, BATCH_SIZE)\n",
        "\n",
        "# sample input\n",
        "sample_hidden = encoder.initialize_hidden_state()\n",
        "sample_hidden = encoder(example_input_batch, sample_hidden)\n",
        "# print ('Encoder output shape: (batch size, sequence length, units) {}'.format(sample_output.shape))\n",
        "print ('Encoder Hidden state shape: (batch size, units) {}'.format(sample_hidden.shape))"
      ],
      "execution_count": null,
      "outputs": [
        {
          "output_type": "stream",
          "name": "stdout",
          "text": [
            "Encoder Hidden state shape: (batch size, units) (64, 1024)\n"
          ]
        }
      ]
    },
    {
      "cell_type": "code",
      "metadata": {
        "id": "75lDNuW3-Nnm"
      },
      "source": [
        "class Decoder(tf.keras.Model):\n",
        "    def __init__(self, vocab_size, embedding_dim, dec_units, batch_sz):\n",
        "        super(Decoder, self).__init__()\n",
        "        self.batch_sz = batch_sz\n",
        "        self.dec_units = dec_units\n",
        "        self.embedding = tf.keras.layers.Embedding(vocab_size, embedding_dim)\n",
        "        self.gru = tf.keras.layers.GRU(self.dec_units,\n",
        "                                       return_sequences=True,\n",
        "                                       return_state=True,\n",
        "                                       recurrent_initializer='glorot_uniform')\n",
        "        self.fc = tf.keras.layers.Dense(vocab_size)\n",
        "\n",
        "        # used for attention\n",
        "        # self.attention = BahdanauAttention(self.dec_units)\n",
        "\n",
        "    def call(self, x, hidden):\n",
        "        # enc_output shape == (batch_size, max_length, hidden_size)\n",
        "\n",
        "        # x shape after passing through embedding == (batch_size, 1, embedding_dim)\n",
        "        x = self.embedding(x)\n",
        "\n",
        "        # x shape after concatenation == (batch_size, 1, embedding_dim + hidden_size)\n",
        "\n",
        "        # passing the concatenated vector to the GRU\n",
        "        output, state = self.gru(x, initial_state=hidden)\n",
        "\n",
        "        # output shape == (batch_size * 1, hidden_size)\n",
        "        output = tf.reshape(output, (-1, output.shape[2]))\n",
        "\n",
        "        # output shape == (batch_size, vocab)\n",
        "        x = self.fc(output)\n",
        "\n",
        "        return x, state"
      ],
      "execution_count": null,
      "outputs": []
    },
    {
      "cell_type": "code",
      "metadata": {
        "id": "4bGGnGrb-Nq0"
      },
      "source": [
        "decoder = Decoder(vocab_tar_size, embedding_dim, units, BATCH_SIZE)\n",
        "\n",
        "decoder_sample_x, decoder_sample_h = decoder(tf.random.uniform((BATCH_SIZE, 1)),\n",
        "                                      sample_hidden)"
      ],
      "execution_count": null,
      "outputs": []
    },
    {
      "cell_type": "code",
      "metadata": {
        "colab": {
          "base_uri": "https://localhost:8080/"
        },
        "id": "ZloApQs0-Ntc",
        "outputId": "e80f2ffb-4b4e-4279-b0d8-f4244e1f8854"
      },
      "source": [
        "decoder_sample_h.shape"
      ],
      "execution_count": null,
      "outputs": [
        {
          "output_type": "execute_result",
          "data": {
            "text/plain": [
              "TensorShape([64, 1024])"
            ]
          },
          "metadata": {},
          "execution_count": 24
        }
      ]
    },
    {
      "cell_type": "markdown",
      "metadata": {
        "id": "A6MxL0x8_YoX"
      },
      "source": [
        "**Define the optimizer and the loss function**"
      ]
    },
    {
      "cell_type": "code",
      "metadata": {
        "id": "FenxeOLL-Nwp"
      },
      "source": [
        "optimizer = tf.keras.optimizers.Adam()\n",
        "loss_object = tf.keras.losses.SparseCategoricalCrossentropy(\n",
        "    from_logits=True, reduction='none')\n",
        "\n",
        "def loss_function(real, pred):\n",
        "    mask = tf.math.logical_not(tf.math.equal(real, 0))\n",
        "    loss_ = loss_object(real, pred)\n",
        "\n",
        "    mask = tf.cast(mask, dtype=loss_.dtype)\n",
        "    loss_ *= mask\n",
        "\n",
        "    return tf.reduce_mean(loss_)"
      ],
      "execution_count": null,
      "outputs": []
    },
    {
      "cell_type": "markdown",
      "metadata": {
        "id": "BaUqx6kGAI7h"
      },
      "source": [
        "**Checkpoints**"
      ]
    },
    {
      "cell_type": "code",
      "metadata": {
        "id": "vAILNKV9_bOn"
      },
      "source": [
        "checkpoint_dir = './translate_checkpoints'\n",
        "checkpoint_prefix = os.path.join(checkpoint_dir, \"ckpt\")\n",
        "checkpoint = tf.train.Checkpoint(optimizer=optimizer,\n",
        "                                 encoder=encoder,\n",
        "                                 decoder=decoder)"
      ],
      "execution_count": null,
      "outputs": []
    },
    {
      "cell_type": "code",
      "metadata": {
        "id": "e_k-X8L3_bSb"
      },
      "source": [
        "@tf.function\n",
        "def train_step(inp, targ, enc_hidden):\n",
        "    loss = 0\n",
        "\n",
        "    with tf.GradientTape() as tape:\n",
        "        enc_hidden = encoder(inp, enc_hidden)\n",
        "\n",
        "        dec_hidden = enc_hidden\n",
        "\n",
        "        dec_input = tf.expand_dims([targ_lang.word_index['<start>']] * BATCH_SIZE, 1)\n",
        "\n",
        "        # Teacher forcing - feeding the target as the next input\n",
        "        for t in range(1, targ.shape[1]):\n",
        "            # passing enc_output to the decoder\n",
        "            predictions, dec_hidden = decoder(dec_input, dec_hidden)\n",
        "\n",
        "            loss += loss_function(targ[:, t], predictions)\n",
        "\n",
        "            # using teacher forcing\n",
        "            dec_input = tf.expand_dims(targ[:, t], 1)\n",
        "\n",
        "        batch_loss = (loss / int(targ.shape[1]))\n",
        "\n",
        "        variables = encoder.trainable_variables + decoder.trainable_variables\n",
        "\n",
        "        gradients = tape.gradient(loss, variables)\n",
        "\n",
        "        optimizer.apply_gradients(zip(gradients, variables))\n",
        "\n",
        "    return batch_loss"
      ],
      "execution_count": null,
      "outputs": []
    },
    {
      "cell_type": "code",
      "metadata": {
        "colab": {
          "base_uri": "https://localhost:8080/"
        },
        "id": "7D4EDbXH_bVd",
        "outputId": "c8c7823f-161b-4b5d-bfdc-cd7f45d68b03"
      },
      "source": [
        "EPOCHS = 10\n",
        "\n",
        "for epoch in range(EPOCHS):\n",
        "    start = time.time()\n",
        "\n",
        "    enc_hidden = encoder.initialize_hidden_state()\n",
        "    total_loss = 0\n",
        "\n",
        "    for (batch, (inp, targ)) in enumerate(dataset.take(steps_per_epoch)):\n",
        "        batch_loss = train_step(inp, targ, enc_hidden)\n",
        "        total_loss += batch_loss\n",
        "\n",
        "        if batch % 100 == 0:\n",
        "            print('Epoch {} Batch {} Loss {:.4f}'.format(epoch + 1,\n",
        "                                                       batch,\n",
        "                                                       batch_loss.numpy()))\n",
        "    # saving (checkpoint) the model every 2 epochs\n",
        "    if (epoch + 1) % 2 == 0:\n",
        "        checkpoint.save(file_prefix = checkpoint_prefix)\n",
        "\n",
        "    print('Epoch {} Loss {:.4f}'.format(epoch + 1,\n",
        "                                      total_loss / steps_per_epoch))\n",
        "    print('Time taken for 1 epoch {} sec\\n'.format(time.time() - start))"
      ],
      "execution_count": null,
      "outputs": [
        {
          "output_type": "stream",
          "name": "stdout",
          "text": [
            "Epoch 1 Batch 0 Loss 4.6220\n",
            "Epoch 1 Batch 100 Loss 1.9729\n",
            "Epoch 1 Batch 200 Loss 1.8386\n",
            "Epoch 1 Batch 300 Loss 1.6896\n",
            "Epoch 1 Batch 400 Loss 1.4528\n",
            "Epoch 1 Batch 500 Loss 1.4850\n",
            "Epoch 1 Batch 600 Loss 1.2048\n",
            "Epoch 1 Batch 700 Loss 1.3762\n",
            "Epoch 1 Batch 800 Loss 1.1962\n",
            "Epoch 1 Batch 900 Loss 1.1045\n",
            "Epoch 1 Batch 1000 Loss 1.0227\n",
            "Epoch 1 Batch 1100 Loss 1.0606\n",
            "Epoch 1 Batch 1200 Loss 1.0014\n",
            "Epoch 1 Loss 1.4136\n",
            "Time taken for 1 epoch 150.3354675769806 sec\n",
            "\n",
            "Epoch 2 Batch 0 Loss 0.7928\n",
            "Epoch 2 Batch 100 Loss 0.9064\n",
            "Epoch 2 Batch 200 Loss 0.7557\n",
            "Epoch 2 Batch 300 Loss 0.6704\n",
            "Epoch 2 Batch 400 Loss 0.7820\n",
            "Epoch 2 Batch 500 Loss 0.7271\n",
            "Epoch 2 Batch 600 Loss 0.7142\n",
            "Epoch 2 Batch 700 Loss 0.6971\n",
            "Epoch 2 Batch 800 Loss 0.5952\n",
            "Epoch 2 Batch 900 Loss 0.6164\n",
            "Epoch 2 Batch 1000 Loss 0.6484\n",
            "Epoch 2 Batch 1100 Loss 0.5276\n",
            "Epoch 2 Batch 1200 Loss 0.5570\n",
            "Epoch 2 Loss 0.6840\n",
            "Time taken for 1 epoch 135.18188071250916 sec\n",
            "\n",
            "Epoch 3 Batch 0 Loss 0.3363\n",
            "Epoch 3 Batch 100 Loss 0.3575\n",
            "Epoch 3 Batch 200 Loss 0.4058\n",
            "Epoch 3 Batch 300 Loss 0.4111\n",
            "Epoch 3 Batch 400 Loss 0.3870\n",
            "Epoch 3 Batch 500 Loss 0.3281\n",
            "Epoch 3 Batch 600 Loss 0.3597\n",
            "Epoch 3 Batch 700 Loss 0.3396\n",
            "Epoch 3 Batch 800 Loss 0.4538\n",
            "Epoch 3 Batch 900 Loss 0.3366\n",
            "Epoch 3 Batch 1000 Loss 0.3295\n",
            "Epoch 3 Batch 1100 Loss 0.4243\n",
            "Epoch 3 Batch 1200 Loss 0.3647\n",
            "Epoch 3 Loss 0.3642\n",
            "Time taken for 1 epoch 134.33277463912964 sec\n",
            "\n",
            "Epoch 4 Batch 0 Loss 0.1698\n",
            "Epoch 4 Batch 100 Loss 0.1942\n",
            "Epoch 4 Batch 200 Loss 0.2130\n",
            "Epoch 4 Batch 300 Loss 0.2324\n",
            "Epoch 4 Batch 400 Loss 0.2114\n",
            "Epoch 4 Batch 500 Loss 0.2568\n",
            "Epoch 4 Batch 600 Loss 0.2137\n",
            "Epoch 4 Batch 700 Loss 0.2859\n",
            "Epoch 4 Batch 800 Loss 0.2388\n",
            "Epoch 4 Batch 900 Loss 0.2244\n",
            "Epoch 4 Batch 1000 Loss 0.2137\n",
            "Epoch 4 Batch 1100 Loss 0.2413\n",
            "Epoch 4 Batch 1200 Loss 0.2189\n",
            "Epoch 4 Loss 0.2178\n",
            "Time taken for 1 epoch 135.16407823562622 sec\n",
            "\n",
            "Epoch 5 Batch 0 Loss 0.1364\n",
            "Epoch 5 Batch 100 Loss 0.0906\n",
            "Epoch 5 Batch 200 Loss 0.0814\n",
            "Epoch 5 Batch 300 Loss 0.1374\n",
            "Epoch 5 Batch 400 Loss 0.1706\n",
            "Epoch 5 Batch 500 Loss 0.1161\n",
            "Epoch 5 Batch 600 Loss 0.1312\n",
            "Epoch 5 Batch 700 Loss 0.1406\n",
            "Epoch 5 Batch 800 Loss 0.1673\n",
            "Epoch 5 Batch 900 Loss 0.1721\n",
            "Epoch 5 Batch 1000 Loss 0.1111\n",
            "Epoch 5 Batch 1100 Loss 0.1911\n",
            "Epoch 5 Batch 1200 Loss 0.1778\n",
            "Epoch 5 Loss 0.1489\n",
            "Time taken for 1 epoch 134.3523609638214 sec\n",
            "\n",
            "Epoch 6 Batch 0 Loss 0.0851\n",
            "Epoch 6 Batch 100 Loss 0.0823\n",
            "Epoch 6 Batch 200 Loss 0.1243\n",
            "Epoch 6 Batch 300 Loss 0.0781\n",
            "Epoch 6 Batch 400 Loss 0.1202\n",
            "Epoch 6 Batch 500 Loss 0.1016\n",
            "Epoch 6 Batch 600 Loss 0.1088\n",
            "Epoch 6 Batch 700 Loss 0.1157\n",
            "Epoch 6 Batch 800 Loss 0.0723\n",
            "Epoch 6 Batch 900 Loss 0.1272\n",
            "Epoch 6 Batch 1000 Loss 0.0970\n",
            "Epoch 6 Batch 1100 Loss 0.1071\n",
            "Epoch 6 Batch 1200 Loss 0.1389\n",
            "Epoch 6 Loss 0.1167\n",
            "Time taken for 1 epoch 134.90706491470337 sec\n",
            "\n",
            "Epoch 7 Batch 0 Loss 0.0961\n",
            "Epoch 7 Batch 100 Loss 0.1030\n",
            "Epoch 7 Batch 200 Loss 0.0755\n",
            "Epoch 7 Batch 300 Loss 0.0922\n",
            "Epoch 7 Batch 400 Loss 0.1048\n",
            "Epoch 7 Batch 500 Loss 0.0533\n",
            "Epoch 7 Batch 600 Loss 0.0935\n",
            "Epoch 7 Batch 700 Loss 0.1133\n",
            "Epoch 7 Batch 800 Loss 0.0999\n",
            "Epoch 7 Batch 900 Loss 0.0974\n",
            "Epoch 7 Batch 1000 Loss 0.1062\n",
            "Epoch 7 Batch 1100 Loss 0.1356\n",
            "Epoch 7 Batch 1200 Loss 0.1114\n",
            "Epoch 7 Loss 0.1001\n",
            "Time taken for 1 epoch 134.60984897613525 sec\n",
            "\n",
            "Epoch 8 Batch 0 Loss 0.0567\n",
            "Epoch 8 Batch 100 Loss 0.1003\n",
            "Epoch 8 Batch 200 Loss 0.0844\n",
            "Epoch 8 Batch 300 Loss 0.1007\n",
            "Epoch 8 Batch 400 Loss 0.0993\n",
            "Epoch 8 Batch 500 Loss 0.1012\n",
            "Epoch 8 Batch 600 Loss 0.0810\n",
            "Epoch 8 Batch 700 Loss 0.0934\n",
            "Epoch 8 Batch 800 Loss 0.0960\n",
            "Epoch 8 Batch 900 Loss 0.0761\n",
            "Epoch 8 Batch 1000 Loss 0.0902\n",
            "Epoch 8 Batch 1100 Loss 0.0543\n",
            "Epoch 8 Batch 1200 Loss 0.1244\n",
            "Epoch 8 Loss 0.0906\n",
            "Time taken for 1 epoch 135.19850826263428 sec\n",
            "\n",
            "Epoch 9 Batch 0 Loss 0.0771\n",
            "Epoch 9 Batch 100 Loss 0.0564\n",
            "Epoch 9 Batch 200 Loss 0.0889\n",
            "Epoch 9 Batch 300 Loss 0.0405\n",
            "Epoch 9 Batch 400 Loss 0.0753\n",
            "Epoch 9 Batch 500 Loss 0.0927\n",
            "Epoch 9 Batch 600 Loss 0.1269\n",
            "Epoch 9 Batch 700 Loss 0.0943\n",
            "Epoch 9 Batch 800 Loss 0.0962\n",
            "Epoch 9 Batch 900 Loss 0.0805\n",
            "Epoch 9 Batch 1000 Loss 0.0964\n",
            "Epoch 9 Batch 1100 Loss 0.0910\n",
            "Epoch 9 Batch 1200 Loss 0.0897\n",
            "Epoch 9 Loss 0.0846\n",
            "Time taken for 1 epoch 134.5785083770752 sec\n",
            "\n",
            "Epoch 10 Batch 0 Loss 0.0785\n",
            "Epoch 10 Batch 100 Loss 0.0794\n",
            "Epoch 10 Batch 200 Loss 0.1256\n",
            "Epoch 10 Batch 300 Loss 0.0547\n",
            "Epoch 10 Batch 400 Loss 0.0781\n",
            "Epoch 10 Batch 500 Loss 0.0394\n",
            "Epoch 10 Batch 600 Loss 0.0743\n",
            "Epoch 10 Batch 700 Loss 0.1013\n",
            "Epoch 10 Batch 800 Loss 0.0613\n",
            "Epoch 10 Batch 900 Loss 0.0597\n",
            "Epoch 10 Batch 1000 Loss 0.0775\n",
            "Epoch 10 Batch 1100 Loss 0.0572\n",
            "Epoch 10 Batch 1200 Loss 0.0721\n",
            "Epoch 10 Loss 0.0801\n",
            "Time taken for 1 epoch 135.2659034729004 sec\n",
            "\n"
          ]
        }
      ]
    },
    {
      "cell_type": "code",
      "metadata": {
        "id": "6yRc5HAT_bY0"
      },
      "source": [
        "def evaluate(sentence):\n",
        "    attention_plot = np.zeros((max_length_targ, max_length_inp))\n",
        "\n",
        "    sentence = preprocess_sentence(sentence)\n",
        "\n",
        "    inputs = [inp_lang.word_index[i] for i in sentence.split(' ')]\n",
        "    inputs = tf.keras.preprocessing.sequence.pad_sequences([inputs],\n",
        "                                                         maxlen=max_length_inp,\n",
        "                                                         padding='post')\n",
        "    inputs = tf.convert_to_tensor(inputs)\n",
        "\n",
        "    result = ''\n",
        "\n",
        "    hidden = [tf.zeros((1, units))]\n",
        "    enc_hidden = encoder(inputs, hidden)\n",
        "\n",
        "    dec_hidden = enc_hidden\n",
        "    dec_input = tf.expand_dims([targ_lang.word_index['<start>']], 0)\n",
        "\n",
        "    for t in range(max_length_targ):\n",
        "        predictions, dec_hidden = decoder(dec_input, dec_hidden)\n",
        "\n",
        "        # storing the attention weights to plot later on\n",
        "        predicted_id = tf.argmax(predictions[0]).numpy()\n",
        "        result += targ_lang.index_word[predicted_id] + ' '\n",
        "\n",
        "        if targ_lang.index_word[predicted_id] == '<end>':\n",
        "            return result, sentence\n",
        "\n",
        "        # the predicted ID is fed back into the model\n",
        "        dec_input = tf.expand_dims([predicted_id], 0)\n",
        "\n",
        "    return result, sentence"
      ],
      "execution_count": null,
      "outputs": []
    },
    {
      "cell_type": "code",
      "metadata": {
        "id": "sKB15CoQ_bbg"
      },
      "source": [
        "def translate(sentence):\n",
        "    result, sentence = evaluate(sentence)\n",
        "\n",
        "    print('Input: %s' % (sentence))\n",
        "    print('Predicted translation: {}'.format(result))"
      ],
      "execution_count": null,
      "outputs": []
    },
    {
      "cell_type": "markdown",
      "metadata": {
        "id": "FTqM56WRe-C5"
      },
      "source": [
        "**Restore the latest checkpoint and test**"
      ]
    },
    {
      "cell_type": "code",
      "metadata": {
        "colab": {
          "base_uri": "https://localhost:8080/"
        },
        "id": "Wo5sNEFo_beB",
        "outputId": "f91315aa-aede-46e3-83e5-7fdfceaacf15"
      },
      "source": [
        "# restoring the latest checkpoint in checkpoint_dir\n",
        "# checkpoint_dir = './training_checkpoints'\n",
        "\n",
        "# checkpoint = tf.train.Checkpoint(optimizer=optimizer,\n",
        "#                                  encoder=encoder,\n",
        "#                                  decoder=decoder)\n",
        "\n",
        "checkpoint.restore(tf.train.latest_checkpoint(checkpoint_dir))"
      ],
      "execution_count": null,
      "outputs": [
        {
          "output_type": "execute_result",
          "data": {
            "text/plain": [
              "<tensorflow.python.training.tracking.util.InitializationOnlyStatus at 0x7fc139ad9450>"
            ]
          },
          "metadata": {},
          "execution_count": 46
        }
      ]
    },
    {
      "cell_type": "code",
      "metadata": {
        "colab": {
          "base_uri": "https://localhost:8080/"
        },
        "id": "Cdi8nFl6_bki",
        "outputId": "17111895-53ce-4a98-ac67-17cbac8f7415"
      },
      "source": [
        "translate('Где находится аптека?')"
      ],
      "execution_count": null,
      "outputs": [
        {
          "output_type": "stream",
          "name": "stdout",
          "text": [
            "Input: <start> где находится аптека ? <end>\n",
            "Predicted translation: where's the pharmacy ? <end> \n"
          ]
        }
      ]
    },
    {
      "cell_type": "code",
      "metadata": {
        "colab": {
          "base_uri": "https://localhost:8080/"
        },
        "id": "Jbp-i0u__bnv",
        "outputId": "74745c8f-7414-410f-be93-c9588ebfa682"
      },
      "source": [
        "translate('Я устал и иду домой.')"
      ],
      "execution_count": null,
      "outputs": [
        {
          "output_type": "stream",
          "name": "stdout",
          "text": [
            "Input: <start> я устал и иду домой . <end>\n",
            "Predicted translation: i'm tired home with tom . <end> \n"
          ]
        }
      ]
    },
    {
      "cell_type": "code",
      "metadata": {
        "colab": {
          "base_uri": "https://localhost:8080/"
        },
        "id": "uWNn70mi-Nzw",
        "outputId": "9125cbf8-3d72-4fea-c9b1-842f51a1ad03"
      },
      "source": [
        "translate('Я иду домой.')"
      ],
      "execution_count": null,
      "outputs": [
        {
          "output_type": "stream",
          "name": "stdout",
          "text": [
            "Input: <start> я иду домой . <end>\n",
            "Predicted translation: i'm on the way home . <end> \n"
          ]
        }
      ]
    },
    {
      "cell_type": "code",
      "metadata": {
        "colab": {
          "base_uri": "https://localhost:8080/"
        },
        "id": "kwrMWs-_8y15",
        "outputId": "57c363c4-cc3c-4b7d-f3e2-bcf4ed20666e"
      },
      "source": [
        "translate('Пойдем есть')"
      ],
      "execution_count": null,
      "outputs": [
        {
          "output_type": "stream",
          "name": "stdout",
          "text": [
            "Input: <start> пойдем есть <end>\n",
            "Predicted translation: let's go get changed . <end> \n"
          ]
        }
      ]
    },
    {
      "cell_type": "code",
      "metadata": {
        "id": "D-eRWjvg39_E"
      },
      "source": [
        ""
      ],
      "execution_count": null,
      "outputs": []
    }
  ]
}